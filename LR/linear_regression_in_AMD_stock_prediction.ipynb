{
 "cells": [
  {
   "cell_type": "markdown",
   "id": "788a7e60-7d16-4785-b415-73b0498ed9ca",
   "metadata": {},
   "source": [
    "#Linear Regression in AMD stock price prediction"
   ]
  },
  {
   "cell_type": "code",
   "execution_count": 4,
   "id": "9c0d822f-f869-4050-9fbd-fbdf110d401a",
   "metadata": {},
   "outputs": [],
   "source": [
    "#import libraries\n",
    "import pandas as pd\n",
    "import numpy as np\n",
    "from sklearn import metrics\n",
    "%matplotlib inline\n",
    "import matplotlib.pyplot as plt"
   ]
  },
  {
   "cell_type": "code",
   "execution_count": null,
   "id": "2637e7f1-f53f-45b6-83b9-c40513e24cfd",
   "metadata": {},
   "outputs": [],
   "source": [
    "datafile = pd.read_csv"
   ]
  }
 ],
 "metadata": {
  "kernelspec": {
   "display_name": "Python 3 (ipykernel)",
   "language": "python",
   "name": "python3"
  },
  "language_info": {
   "codemirror_mode": {
    "name": "ipython",
    "version": 3
   },
   "file_extension": ".py",
   "mimetype": "text/x-python",
   "name": "python",
   "nbconvert_exporter": "python",
   "pygments_lexer": "ipython3",
   "version": "3.12.4"
  }
 },
 "nbformat": 4,
 "nbformat_minor": 5
}
