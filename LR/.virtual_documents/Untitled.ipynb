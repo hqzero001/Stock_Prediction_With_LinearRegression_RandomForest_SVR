


#import libraries
from pandas as pd
from numpy as np
from sklearn import metrics
%matplotlib inline
import matplot.pyplot as plt



