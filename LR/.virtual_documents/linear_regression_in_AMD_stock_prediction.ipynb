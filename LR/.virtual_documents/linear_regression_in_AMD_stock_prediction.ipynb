


#import libraries
import pandas as pd
import numpy as np
from sklearn import metrics
%matplotlib inline
import matplotlib.pyplot as plt


#load data
datafile = pd.read_csv("AMD (1980 -11.07.2023).csv")
datafile.head()


series_shifted = datafile['Close'].shift()
datafile['Prev_close'] = series_shifted
datafile.head()


datafile = datafile.drop(columns = ['Adj Close'])
datafile.head()


datafile.shape


#null entries check (need to remove those data)
datafile.isnull().sum()


#drop / remove
datafile.dropna(inplace = True)
datafile


datafile.info()


datafile.describe()


#plot close price (Draw close price figure)
datafile['Close'].plot(figsize = (10, 8))
plt.title("Close Price Overtime")
plt.xlabel("Date")
plt.ylabel("Close Price")
plt.show()


#x and y (calculate close)
x = datafile[['Open', 'Prev_close', 'High', 'Low']]
y = datafile['Close']


from sklearn.model_selection import train_test_split
x_train, x_test, y_train, y_test = train_test_split(x, y, random_state = 0)


print(x_train.shape, x_test.shape)


#linear regression
from sklearn.linear_model import LinearRegression
from sklearn.metrics import confusion_matrix, accuracy_score
regressor = LinearRegression()
regressor.fit(x_train, y_train)


#print regressor
#
print(regressor.coef_)
print(regressor.intercept_)


#predicted value
predicted = regressor.predict(x_test)
print(x_test)
print(predicted)


predicted.shape


#Comparison predicted to actual test
_datafile = pd.DataFrame({"Actual": y_test, "Predicted": predicted})
print(_datafile)


#Score
regressor.score(x_test, y_test)


import math
print("Mean Absolute Error ", metrics.mean_absolute_error(y_test, predicted))
print("Mean Square Error ", metrics.mean_squared_error(y_test, predicted))
print("Root Mean Error ", math.sqrt(metrics.mean_squared_error(y_test, predicted)))


predicted = regressor.predict(x)
print(predicted)


#plot the graph
plt.plot(y, label = "Actual")
plt.plot(predicted, label = "Predicted")
plt.xlabel("Index")
plt.ylabel("Value")
plt.title("Actual vs Predicted")
plt.legend()
plt.show()






