


#import libraries
import pandas as pd
import numpy as np
from sklearn import metrics
%matplotlib inline
import matplotlib.pyplot as plt


#load data
datafile = pd.read_csv("AMD (1980 -11.07.2023).csv")
datafile.head()



#Add Prev_close column to store previous close price
series_shifted = datafile['Close'].shift()
datafile['Prev_close'] = series_shifted
datafile.head()


#Drop unused column for train data
datafile = datafile.drop(columns = ['Adj Close'])
datafile.head()


datafile.shape


#null entries check (need to remove those data)
datafile.isnull().sum()


#drop / remove NaN row or column
#inplace = true to execute dropna right on it file so python
#dont have to create a copy and we have to re-initialize and
#add to a new datafile variable
datafile.dropna(inplace = True)
datafile


#check file info
datafile.info()


datafile.describe()


#plot close price (Draw close price figure)
datafile['Close'].plot(figsize = (10, 8))
plt.title("Close Price Overtime")
plt.xlabel("Index")
plt.ylabel("Close Price")
plt.show()


#define target x and y (calculate close)
x = datafile[['Open', 'Prev_close', 'High', 'Low']]
y = datafile['Close']


#allocate data for training
from sklearn.model_selection import train_test_split
x_train, x_test, y_train, y_test = train_test_split(x, y, random_state = 0)


print(x_train.shape, x_test.shape)


#linear regression
from sklearn.linear_model import LinearRegression
from sklearn.metrics import confusion_matrix, accuracy_score
regressor = LinearRegression()
regressor.fit(x_train, y_train)


#print regressor
#
print(regressor.coef_)
print(regressor.intercept_)


#predicted value
predicted = regressor.predict(x_test)
print(x_test)
print(predicted)


predicted.shape


#Comparison predicted to actual test
_datafile = pd.DataFrame({"Actual": y_test, "Predicted": predicted})
print(_datafile)


#Score
regressor.score(x_test, y_test)


import math
print("Mean Absolute Error ", metrics.mean_absolute_error(y_test, predicted))
print("Mean Square Error ", metrics.mean_squared_error(y_test, predicted))
print("Root Mean Error ", math.sqrt(metrics.mean_squared_error(y_test, predicted)))


predicted = regressor.predict(x)
print(predicted)


#plot the graph
plt.plot(y, label = "Actual")
plt.plot(predicted, label = "Predicted")
plt.xlabel("Index")
plt.ylabel("Value")
plt.title("Actual vs Predicted")
plt.legend()
plt.show()


#load test data
new_data = pd.read_csv("AMD (2023 - 08.04.2024).csv")
new_data.head()


# Add Prev_close column
series_shifted = new_data['Close'].shift()
new_data['Prev_close'] = series_shifted
new_data.head()


#Drop unused column for test data
new_data = new_data.drop(columns = ['Adj Close'])
new_data.head()


new_data.shape


#null entries check (need to remove those data)
new_data.isnull().sum()


# remove null row/column
new_data.dropna(inplace = True)
new_data


#Check table info
new_data.info()


new_data.describe()


#plot close price (Draw close price figure)
new_data['Close'].plot(figsize = (10, 8))
plt.title("Close Price Overtime")
plt.xlabel("Index")
plt.ylabel("Close Price")
plt.show()


#define target x and y (calculate close)
x_new = new_data[['Open', 'Prev_close', 'High', 'Low']]
y_new = new_data['Close']


#predicted value with new data
new_predicted = regressor.predict(x_new)
print(x_new)
print(new_predicted)


new_predicted.shape


#Comparison predicted to actual test
_new_data = pd.DataFrame({"Actual": y_new, "Predicted": new_predicted})
print(_new_data)


#Score
regressor.score(x_new, y_new)


import math
print("Mean Absolute Error ", metrics.mean_absolute_error(y_new, new_predicted))
print("Mean Square Error ", metrics.mean_squared_error(y_new, new_predicted))
print("Root Mean Error ", math.sqrt(metrics.mean_squared_error(y_new, new_predicted)))


new_predicted = regressor.predict(x_new)
print(new_predicted)


#plot the graph
plt.plot(y_new.index, y_new, label = "Actual")
plt.plot(y_new.index, new_predicted, label = "Predicted")
plt.xlabel("Index")
plt.ylabel("Value")
plt.title("Actual vs Predicted")
plt.legend()
plt.show()


#Export jupyter notebook files to py files
#!jupyter nbconvert --to script your_notebook_name.ipynb


plt.plot(_new_data['Actual'].iloc[:10], label='Actual')
plt.plot(_new_data['Predicted'].iloc[:10], label='Predicted')
plt.xlabel("Index")
plt.ylabel("Value")
plt.title("Partial Actual vs Predicted")
plt.legend()
plt.show()


plt.plot(_new_data['Actual'].iloc[:50], label='Actual')
plt.plot(_new_data['Predicted'].iloc[:50], label='Predicted')
plt.xlabel("Index")
plt.ylabel("Value")
plt.title("Partial Actual vs Predicted")
plt.legend()
plt.show()




