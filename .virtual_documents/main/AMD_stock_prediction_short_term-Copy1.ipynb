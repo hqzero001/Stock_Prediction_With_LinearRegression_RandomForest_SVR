


#import libraries
import pandas as pd
import numpy as np
from sklearn import metrics
%matplotlib inline
import matplotlib.pyplot as plt
import seaborn as sns
import mplfinance as mpf

#Linear Regression
from sklearn.linear_model import LinearRegression
from sklearn.metrics import confusion_matrix, accuracy_score

#Random Forest Regression
from sklearn.ensemble import RandomForestRegressor

# Các thư viện phục vụ đánh giá dữ liệu
import math

import graphviz

from collections import Counter

from sklearn.preprocessing import LabelEncoder
from sklearn.model_selection import train_test_split, GridSearchCV, RandomizedSearchCV, StratifiedKFold, cross_val_score
from sklearn.tree import DecisionTreeClassifier
from sklearn.ensemble import RandomForestClassifier
from sklearn.metrics import accuracy_score, classification_report, precision_score, recall_score, f1_score, confusion_matrix, ConfusionMatrixDisplay
from sklearn import datasets
from sklearn.tree import plot_tree
from sklearn.preprocessing import StandardScaler
from sklearn.metrics import mean_squared_error

import joblib








#Nhập dữ liệu
datafile = pd.read_csv("AMD (2018 -11.07.2023).csv")
datafile.head()



#Kiểm tra thông tin dữ liệu
datafile.info()


#tìm các giá trị null
datafile.isnull().sum()


datafile.describe().T


#Thêm cột Prev_close để lưu trữ giá đóng cửa trước đó cho mỗi ngày
series_shifted = datafile['Close'].shift()
datafile['Prev_close'] = series_shifted
datafile.head(5)


#null entries check (need to remove those data)
datafile.isnull().sum()


#drop / remove NaN row or column
#inplace = true to execute dropna right on it file so python
#dont have to create a copy and we have to re-initialize and
#add to a new datafile variable
datafile.dropna(inplace = True)
datafile.shape


# xóa cột 'Adj Close'
def remove_columns(datafile, columns_to_remove):
    # Lặp qua các cột cần xóa và kiểm tra xem cột đó có tồn tại trong tập dữ liệu không
    for column in columns_to_remove:
        if column in datafile.columns:
            datafile = datafile.drop(columns=[column])  # Xóa cột
            print(f"Cột '{column}' đã được xóa.")
        else:
            print(f"Cột '{column}' không tồn tại trong tập dữ liệu.")
    return datafile

# Cột cần xóa (chỉ xóa 'Adj Close')
columns_to_remove = ['Adj Close']

# Áp dụng hàm xóa cột 'Adj Close'
df_cleaned_without_columns = remove_columns(datafile, columns_to_remove)

# Lưu tập dữ liệu mới
df_cleaned_without_columns.to_csv("AMD_(2018 -11.07.2023).csv_without_Adj_Close.csv", index=False)

# Thông báo kết quả
print("Tập dữ liệu đã được lưu.")






df = pd.read_csv('AMD_(2018 -11.07.2023).csv_without_Adj_Close.csv')
df.shape


df = pd.read_csv('AMD_(2018 -11.07.2023).csv_without_Adj_Close.csv', parse_dates=['Date'])

# Đặt cột 'Date' làm chỉ mục
df.set_index('Date', inplace=True)

### 1. Lấy mẫu ngẫu nhiên 1000 dòng để hiển thị
df_sampled = df.sample(1000)

### 2. Lấy dữ liệu của 1 năm gần nhất
df_last_year = df.tail(225)  # 225 giao dịch gần nhất (trong năm 2023)

# Biểu đồ đường cho dữ liệu 1 năm
df_last_year[['Open', 'Close']].plot(figsize=(12, 6), title="Biểu đồ giá cổ phiếu trong 1 năm gần nhất")
plt.show()

### 3. Lấy dữ liệu 5 năm gần nhất
df_last_five_year = df.tail(1262) #1266 giao dịch gần nhất (2018 ~ 2023)
df_last_five_year[['Open', 'Close']].plot(figsize=(12, 6), title="Biểu đồ giá cổ phiếu trong 5 năm gần nhất")
plt.show()

### 4. Ma trận tương quan chỉ với dữ liệu 1000 dòng (để giảm quá tải)
df_sampled_corr = df_sampled[['Open', 'Close', 'High', 'Low', 'Volume', 'Prev_close']].corr()
sns.heatmap(df_sampled_corr, annot=True, cmap='coolwarm')
plt.title("Ma trận tương quan (full dữ liệu)")
plt.show()

### 5. Biểu đồ tán xạ giữa giá mở cửa và giá đóng cửa trong vòng 1 năm
df_last_year.plot(kind='scatter', x='Open', y='Close', figsize=(12, 6), title="Biểu đồ Tán xạ giữa giá mở cửa và giá đóng cửa trong 1 năm")
plt.show()

import plotly.graph_objects as go

### 6.Tạo biểu đồ nến
fig = go.Figure(data=[go.Candlestick(x=df_last_year.index,
                                     open=df_last_year['Open'],
                                     high=df_last_year['High'],
                                     low=df_last_year['Low'],
                                     close=df_last_year['Close'])])

fig.update_layout(title="Biểu đồ Nến (Candle Stick) trong 1 năm",
                  xaxis_title="Ngày",
                  yaxis_title="Giá cổ phiếu")

fig.show()

# Nếu không hiển thị, thử lưu ra file HTML
fig.write_html("candlestick_chart.html")





# Đọc dữ liệu từ file
df = pd.read_csv('AMD_(2018 -11.07.2023).csv_without_Adj_Close.csv', parse_dates=['Date'])

#define target x and y (calculate close)
x = df[['Open', 'High', 'Low', 'Prev_close', 'Volume']]
y = df['Close']

x_train, x_test, y_train, y_test = train_test_split(x, y, random_state = 0)

#train data check
print(x_train.shape, x_test.shape)


#linear regression

regressor = LinearRegression()
regressor.fit(x_train, y_train)


#print regressor
#coef hệ số của pt tuyến tính
#coef cho biết giá trị các cột khi tăng 1 thì sẽ tăng giảm theo giá trị trong mảng coef
#intercept hệ số chặn của ptt tt
#là giá trị biến phụ thuộc khi mọi biến độc lập = 0
print(regressor.coef_)
print(regressor.intercept_)


#predicted value
predicted = regressor.predict(x_test)
print(x_test)
print(predicted)


predicted.shape


#Comparison predicted to actual test
_datafile = pd.DataFrame({"Actual": y_test, "Predicted": predicted})
print(_datafile)


#Score
regressor.score(x_test, y_test)


print("Mean Absolute Error ", metrics.mean_absolute_error(y_test, predicted))
print("Mean Square Error ", metrics.mean_squared_error(y_test, predicted))
print("Root Mean Error ", math.sqrt(metrics.mean_squared_error(y_test, predicted)))


predicted = regressor.predict(x)
print(predicted)


#plot the graph
plt.figure(figsize=(12, 6))
plt.plot(y, label = "Actual")
plt.plot(predicted, label = "Predicted")
plt.xlabel("Index")
plt.ylabel("Value")
plt.title("Actual vs Predicted")
plt.legend()
plt.show()





# Load dữ liệu
df = pd.read_csv("AMD_(2018 -11.07.2023).csv_without_Adj_Close.csv")

# Chọn cột đầu vào và đầu ra
x = df[['Open', 'High', 'Low', 'Prev_close', 'Volume']]  # Các cột đặc trưng
y = df['Close']  # Giá trị cần dự đoán (giá đóng cửa)

# Chia dữ liệu thành tập train và test
x_train, x_test, y_train, y_test = train_test_split(x, y, test_size=0.2, random_state=42)


# Khởi tạo mô hình Random Forest
rf_model = RandomForestRegressor(n_estimators=100, random_state=42)

# Huấn luyện mô hình
rf_model.fit(x_train, y_train)

# Dự đoán trên tập test
y_pred = rf_model.predict(x_test)


# Tính toán MAE, MSE và RMSE
mae = metrics.mean_absolute_error(y_test, y_pred)
mse = metrics.mean_squared_error(y_test, y_pred)
rmse = np.sqrt(mse)

#score
print("R² Score:", rf_model.score(x_test, y_test))

# In kết quả MAE, MSE và RMSE
print("Mean Absolute Error ", mae)
print("Mean Square Error ", mse)
print("Root Mean Error ", rmse)


# Vẽ biểu đồ so sánh giá thực tế và giá dự đoán
plt.figure(figsize=(12, 6))
plt.plot(y_test.values, label="Actual", color='blue')
plt.plot(y_pred, label="Predicted", color='red', linestyle='--')
plt.xlabel("Index")
plt.ylabel("Stock Price")
plt.title("Random Forest: Actual vs Predicted")
plt.legend()
plt.show()





# Import thư viện 
import pandas as pd
import numpy as np
from sklearn import metrics
import matplotlib.pyplot as plt
from sklearn.svm import SVR  # Import thuật toán SVR
from sklearn.model_selection import train_test_split
from sklearn.preprocessing import StandardScaler  # Để chuẩn hóa dữ liệu
import math


# Vẽ biểu đồ giá đóng cửa
df['Close'].plot(figsize=(10, 8))
plt.title("Close Price Overtime")
plt.xlabel("Date")
plt.ylabel("Close Price")
plt.show()


# Tạo X và y
x = df[['Open', 'High', 'Low', 'Prev_close', 'Volume']]
y = df['Close']  # Nhãn


# %%

# Chia dữ liệu thành tập huấn luyện và kiểm tra
x_train, x_test, y_train, y_test = train_test_split(x, y, random_state=0)

# Kiểm tra kích thước của tập huấn luyện và kiểm tra
print(x_train.shape, x_test.shape)


# %%

# Chuẩn hóa dữ liệu
scaler_x = StandardScaler()
scaler_y = StandardScaler()

X_train = scaler_x.fit_transform(x_train)
X_test = scaler_x.transform(x_test)

y_train = scaler_y.fit_transform(y_train.values.reshape(-1, 1))
y_test = scaler_y.transform(y_test.values.reshape(-1, 1))


# %%

# Khởi tạo mô hình SVR
svr_model = SVR(kernel='rbf', C=100, epsilon=0.1)

# Huấn luyện mô hình
svr_model.fit(X_train, y_train.ravel())

# In ra các tham số mô hình (cho SVR, không có coef_ và intercept như Linear Regression)
print("SVR model trained!")


svr_model.score(X_test, y_test)


# Dự đoán trên tập kiểm tra
y_pred = svr_model.predict(X_test)

# Đưa dữ liệu dự đoán về dạng gốc
y_test_actual = scaler_y.inverse_transform(y_test)
y_pred_actual = scaler_y.inverse_transform(y_pred.reshape(-1, 1))

# Tính toán các chỉ số đánh giá
mae = metrics.mean_absolute_error(y_test_actual, y_pred_actual)
mse = metrics.mean_squared_error(y_test_actual, y_pred_actual)
rmse = np.sqrt(mse)

# In kết quả MAE, MSE và RMSE
print("R² Score:", svr_model.score(X_test, y_test))  # In điểm R² của mô hình
print("Mean Absolute Error:", mae)
print("Mean Squared Error:", mse)
print("Root Mean Squared Error:", rmse)



# Đưa y_test và y_full_pred trở lại dạng gốc
y_full_test_actual = scaler_y.inverse_transform(y_test_actual.reshape(-1, 1))  # Đảo ngược chuẩn hóa của y_test
y_full_pred_actual = scaler_y.inverse_transform(y_pred_actual.reshape(-1, 1))  # Đảo ngược chuẩn hóa của y_full_pred (chuyển đổi thành dạng 2D)

# Vẽ biểu đồ so sánh Actual vs Predicted
plt.figure(figsize=(12, 6))

plt.plot(y_full_test_actual, label="Actual")  # Giá trị thực tế
plt.plot(y_full_pred_actual, label="Predicted")  # Giá trị dự đoán

plt.xlabel("Index")
plt.ylabel("Price Value")
plt.title("Actual vs Predicted Close Price")
plt.legend()
plt.show()









#load test data
new_data = pd.read_csv("AMD_november_2024.csv")
new_data.head()


new_data.shape


#null entries check (need to remove those data)
new_data.isnull().sum()


#define target x and y (calculate close)
x_new = new_data[['Open', 'High', 'Low', 'Prev_close', 'Volume']]
y_new = new_data['Close']


#predicted value with new data
new_predicted = regressor.predict(x_new)
print(x_new)
print(new_predicted)


#Comparison predicted to actual test
_new_data = pd.DataFrame({"Actual": y_new, "Predicted": new_predicted})
print(_new_data)


#Score
regressor.score(x_new, y_new)


import math
print("Mean Absolute Error ", metrics.mean_absolute_error(y_new, new_predicted))
print("Mean Square Error ", metrics.mean_squared_error(y_new, new_predicted))
print("Root Mean Error ", math.sqrt(metrics.mean_squared_error(y_new, new_predicted)))


#plot the graph
plt.figure(figsize=(12, 6))
plt.plot(y_new.index, y_new, label = "Actual")
plt.plot(y_new.index, new_predicted, label = "Predicted")
plt.xlabel("Index")
plt.ylabel("Value")
plt.title("Actual vs Predicted")
plt.legend()
plt.show()





new_predicted = rf_model.predict(x_new)
print(x_new)
print(new_predicted)


#Score
rf_model.score(x_new, y_new)


import math
print("Mean Absolute Error ", metrics.mean_absolute_error(y_new, new_predicted))
print("Mean Square Error ", metrics.mean_squared_error(y_new, new_predicted))
print("Root Mean Error ", math.sqrt(metrics.mean_squared_error(y_new, new_predicted)))


#plot the graph
plt.figure(figsize=(12, 6))
plt.plot(y_new.index, y_new, label = "Actual")
plt.plot(y_new.index, new_predicted, label = "Predicted")
plt.xlabel("Index")
plt.ylabel("Value")
plt.title("Actual vs Predicted")
plt.legend()
plt.show()





new_predicted = svr_model.predict(x_new)
print(x_new)
print(new_predicted)



