


#import libraries
import pandas as pd
import numpy as np
from sklearn import metrics
%matplotlib inline
import matplotlib.pyplot as plt
import seaborn as sns
import mplfinance as mpf

import graphviz

from collections import Counter

from sklearn.preprocessing import LabelEncoder
from sklearn.model_selection import train_test_split, GridSearchCV, RandomizedSearchCV, StratifiedKFold, cross_val_score
from sklearn.tree import DecisionTreeClassifier
from sklearn.ensemble import RandomForestClassifier
from sklearn.metrics import accuracy_score, classification_report, precision_score, recall_score, f1_score, confusion_matrix, ConfusionMatrixDisplay
from sklearn import datasets
from sklearn.tree import plot_tree
from sklearn.preprocessing import StandardScaler
from sklearn.metrics import mean_squared_error

import joblib





#load data
datafile = pd.read_csv("AMD (2018 -11.07.2023).csv")
datafile.head()



#check file info
datafile.info()


datafile.describe().T


#Add Prev_close column to store previous close price
series_shifted = datafile['Close'].shift()
datafile['Prev_close'] = series_shifted
datafile.head()


#null entries check (need to remove those data)
datafile.isnull().sum()


#drop / remove NaN row or column
#inplace = true to execute dropna right on it file so python
#dont have to create a copy and we have to re-initialize and
#add to a new datafile variable
datafile.dropna(inplace = True)
datafile.shape




# Hàm để xóa cột 'Adj Close'
def remove_columns(datafile, columns_to_remove):
    # Lặp qua các cột cần xóa và kiểm tra xem cột đó có tồn tại trong tập dữ liệu không
    for column in columns_to_remove:
        if column in datafile.columns:
            datafile = datafile.drop(columns=[column])  # Xóa cột
            print(f"Cột '{column}' đã được xóa.")
        else:
            print(f"Cột '{column}' không tồn tại trong tập dữ liệu.")
    return datafile

# Cột cần xóa (chỉ xóa 'Adj Close')
columns_to_remove = ['Adj Close']

# Áp dụng hàm xóa cột 'Adj Close'
df_cleaned_without_columns = remove_columns(datafile, columns_to_remove)

# Lưu tập dữ liệu mới
df_cleaned_without_columns.to_csv("AMD_(2018 -11.07.2023).csv_without_Adj_Close.csv", index=False)

# Thông báo kết quả
print("Tập dữ liệu đã được lưu.")






df = pd.read_csv('AMD_(2018 -11.07.2023).csv_without_Adj_Close.csv')
df.shape


df = pd.read_csv('AMD_(2018 -11.07.2023).csv_without_Adj_Close.csv', parse_dates=['Date'])

# Đặt cột 'Date' làm chỉ mục
df.set_index('Date', inplace=True)

### 1. Lấy mẫu ngẫu nhiên 1000 dòng để hiển thị
df_sampled = df.sample(1000)

### 2. Lấy dữ liệu của 1 năm gần nhất
df_last_year = df.tail(225)  # 225 giao dịch gần nhất (trong năm 2023)

# Biểu đồ đường cho dữ liệu 1 năm
df_last_year[['Open', 'Close']].plot(figsize=(12, 6), title="Biểu đồ giá cổ phiếu trong 1 năm gần nhất")
plt.show()

### 3. Lấy dữ liệu 5 năm gần nhất
df_last_five_year = df.tail(1262) #1266 giao dịch gần nhất (2018 ~ 2023)
df_last_five_year[['Open', 'Close']].plot(figsize=(12, 6), title="Biểu đồ giá cổ phiếu trong 5 năm gần nhất")
plt.show()

### 4. Ma trận tương quan chỉ với dữ liệu 1000 dòng (để giảm quá tải)
df_sampled_corr = df_sampled[['Open', 'Close', 'High', 'Low', 'Volume', 'Prev_close']].corr()
sns.heatmap(df_sampled_corr, annot=True, cmap='coolwarm')
plt.title("Ma trận tương quan (full dữ liệu)")
plt.show()

### 5. Biểu đồ tán xạ giữa giá mở cửa và giá đóng cửa trong vòng 1 năm
df_last_year.plot(kind='scatter', x='Open', y='Close', figsize=(12, 6), title="Biểu đồ Tán xạ giữa giá mở cửa và giá đóng cửa trong 1 năm")
plt.show()

import plotly.graph_objects as go

### 6.Tạo biểu đồ nến
fig = go.Figure(data=[go.Candlestick(x=df_last_year.index,
                                     open=df_last_year['Open'],
                                     high=df_last_year['High'],
                                     low=df_last_year['Low'],
                                     close=df_last_year['Close'])])

fig.update_layout(title="Biểu đồ Nến (Candle Stick) trong 1 năm",
                  xaxis_title="Ngày",
                  yaxis_title="Giá cổ phiếu")

fig.show()

# Nếu không hiển thị, thử lưu ra file HTML
fig.write_html("candlestick_chart.html")





# Đọc dữ liệu từ file
df = pd.read_csv('AMD_(2018 -11.07.2023).csv_without_Adj_Close.csv', parse_dates=['Date'])

#define target x and y (calculate close)
x = df[['Open', 'High', 'Low', 'Prev_close', 'Volume']]
y = df['Close']

#allocate data for training
from sklearn.model_selection import train_test_split
from sklearn.linear_model import Ridge

x_train, x_test, y_train, y_test = train_test_split(x, y, random_state = 0)

#train data check
print(x_train.shape, x_test.shape)


#linear regression
from sklearn.linear_model import LinearRegression
from sklearn.metrics import confusion_matrix, accuracy_score
regressor = LinearRegression()
regressor.fit(x_train, y_train)


#print regressor
#coef hệ số của pt tuyến tính
#coef cho biết giá trị các cột khi tăng 1 thì sẽ tăng giảm theo giá trị trong mảng coef
#intercept hệ số chặn của ptt tt
#là giá trị biến phụ thuộc khi mọi biến độc lập = 0
print(regressor.coef_)
print(regressor.intercept_)


#predicted value
predicted = regressor.predict(x_test)
print(x_test)
print(predicted)


predicted.shape


#Comparison predicted to actual test
_datafile = pd.DataFrame({"Actual": y_test, "Predicted": predicted})
print(_datafile)


#Score
regressor.score(x_test, y_test)


import math
print("Mean Absolute Error ", metrics.mean_absolute_error(y_test, predicted))
print("Mean Square Error ", metrics.mean_squared_error(y_test, predicted))
print("Root Mean Error ", math.sqrt(metrics.mean_squared_error(y_test, predicted)))


predicted = regressor.predict(x)
print(predicted)


#plot the graph
plt.figure(figsize=(12, 6))
plt.plot(y, label = "Actual")
plt.plot(predicted, label = "Predicted")
plt.xlabel("Index")
plt.ylabel("Value")
plt.title("Actual vs Predicted")
plt.legend()
plt.show()





from sklearn.ensemble import RandomForestRegressor


# Load dữ liệu
df = pd.read_csv("AMD_(2018 -11.07.2023).csv_without_Adj_Close.csv")

# Chọn cột đầu vào và đầu ra
x = df[['Open', 'High', 'Low', 'Prev_close', 'Volume']]  # Các cột đặc trưng
y = df['Close']  # Giá trị cần dự đoán (giá đóng cửa)

# Chia dữ liệu thành tập train và test
x_train, x_test, y_train, y_test = train_test_split(x, y, test_size=0.2, random_state=42)


# Khởi tạo mô hình Random Forest
rf_model = RandomForestRegressor(n_estimators=100, random_state=42)

# Huấn luyện mô hình
rf_model.fit(x_train, y_train)

# Dự đoán trên tập test
y_pred = rf_model.predict(x_test)


# Tính toán MSE và RMSE
mse = mean_squared_error(y_test, y_pred)
rmse = np.sqrt(mse)
print(f"MSE: {mse}")
print(f"RMSE: {rmse}")


# Vẽ biểu đồ so sánh giá thực tế và giá dự đoán
plt.figure(figsize=(12, 6))
plt.plot(y_test.values, label="Actual", color='blue')
plt.plot(y_pred, label="Predicted", color='red', linestyle='--')
plt.xlabel("Index")
plt.ylabel("Stock Price")
plt.title("Random Forest: Actual vs Predicted")
plt.legend()
plt.show()


from sklearn.model_selection import train_test_split, GridSearchCV

# Đọc dữ liệu
df['Date'] = pd.to_datetime(df['Date'])
df.set_index('Date', inplace=True)

# Chọn đặc trưng và biến mục tiêu
x = df[['Open', 'High', 'Low', 'Volume', 'Prev_close']]
y = df['Close']

# Chia tập dữ liệu
x_train, x_test, y_train, y_test = train_test_split(x, y, test_size=0.2, random_state=42)


# Random Forest Regressor
rf = RandomForestRegressor(random_state=42)

# Các tham số cần thử nghiệm, giảm số lượng giá trị thử
param_grid = {
    'n_estimators': [100, 200],  # Giảm số lượng cây
    'max_depth': [10, 15],        # Giảm độ sâu cây
    'min_samples_split': [5],     # Giảm số mẫu tối thiểu để chia
    'min_samples_leaf': [2],      # Giảm số mẫu tối thiểu ở lá
    'max_features': ['sqrt']     # Giới hạn số lượng đặc trưng
}

# GridSearchCV
grid_search = GridSearchCV(estimator=rf, param_grid=param_grid, 
                           cv=3, n_jobs=-1, scoring='r2', verbose=1)

# Huấn luyện
grid_search.fit(x_train, y_train)

# In ra tham số tốt nhất và điểm R2 tốt nhất
print("Best Parameters:", grid_search.best_params_)
print("Best R2 Score:", grid_search.best_score_)



# Kiểm tra mô hình tối ưu trên tập test
best_rf = grid_search.best_estimator_  # Lấy mô hình tốt nhất từ GridSearchCV
y_pred = best_rf.predict(x_test)  # Dự đoán trên tập test
from sklearn.metrics import r2_score
print("Test R2 Score:", r2_score(y_test, y_pred))  # Tính điểm R2 trên tập test



# Đánh giá
print("R2 Score on Test Data:", r2_score(y_test, y_pred))
print("MSE on Test Data:", metrics.mean_squared_error(y_test, y_pred))
print("RMSE on Test Data:", np.sqrt(mean_squared_error(y_test, y_pred)))





# Import libraries
import pandas as pd
import numpy as np
import matplotlib.pyplot as plt
from sklearn import metrics
from sklearn.svm import SVR  # Import SVR
from sklearn.model_selection import train_test_split

%matplotlib inline



# Load data
datafile = pd.read_csv("AMD (1980 -11.07.2023).csv")
datafile.head()



# Add Prev_close column to store previous close price
series_shifted = datafile['Close'].shift()
datafile['Prev_close'] = series_shifted

# Drop unused column for train data
datafile = datafile.drop(columns=['Adj Close'])

# Drop NaN values
datafile.dropna(inplace=True)



# Plot close price
datafile['Close'].plot(figsize=(10, 8))
plt.title("Close Price Overtime")
plt.xlabel("Index")
plt.ylabel("Close Price")
plt.show()



# Define target x and y
x = datafile[['Open', 'Prev_close', 'High', 'Low']]
y = datafile['Close']



# Allocate data for training
x_train, x_test, y_train, y_test = train_test_split(x, y, random_state=0)

print(x_train.shape, x_test.shape)



# SVR model
svr_model = SVR(kernel='rbf', C=100, epsilon=0.1)  # Kernel options: 'linear', 'poly', 'rbf', 'sigmoid'
svr_model.fit(x_train, y_train)

# Predicted value
predicted = svr_model.predict(x_test)
print("Predicted:", predicted)



# Comparison: predicted vs actual
_datafile = pd.DataFrame({"Actual": y_test, "Predicted": predicted})
print(_datafile)



# Evaluation metrics
print("Mean Absolute Error: ", metrics.mean_absolute_error(y_test, predicted))
print("Mean Square Error: ", metrics.mean_squared_error(y_test, predicted))
print("Root Mean Error: ", np.sqrt(metrics.mean_squared_error(y_test, predicted)))



# Predict on full data
predicted_full = svr_model.predict(x)



# Plot the graph
plt.plot(y.values, label="Actual")
plt.plot(predicted_full, label="Predicted")
plt.xlabel("Index")
plt.ylabel("Value")
plt.title("Actual vs Predicted")
plt.legend()
plt.show()












#load test data
new_data = pd.read_csv("AMD_november_2024.csv")
new_data.head()


new_data.shape


#null entries check (need to remove those data)
new_data.isnull().sum()


#define target x and y (calculate close)
x_new = new_data[['Open', 'High', 'Low', 'Prev_close', 'Volume']]
y_new = new_data['Close']


#predicted value with new data
new_predicted = regressor.predict(x_new)
print(x_new)
print(new_predicted)


#Comparison predicted to actual test
_new_data = pd.DataFrame({"Actual": y_new, "Predicted": new_predicted})
print(_new_data)


#Score
regressor.score(x_new, y_new)


import math
print("Mean Absolute Error ", metrics.mean_absolute_error(y_new, new_predicted))
print("Mean Square Error ", metrics.mean_squared_error(y_new, new_predicted))
print("Root Mean Error ", math.sqrt(metrics.mean_squared_error(y_new, new_predicted)))


#plot the graph
plt.figure(figsize=(12, 6))
plt.plot(y_new.index, y_new, label = "Actual")
plt.plot(y_new.index, new_predicted, label = "Predicted")
plt.xlabel("Index")
plt.ylabel("Value")
plt.title("Actual vs Predicted")
plt.legend()
plt.show()





new_predicted = rf_model.predict(x_new)
print(x_new)
print(new_predicted)


#Score
rf_model.score(x_new, y_new)


import math
print("Mean Absolute Error ", metrics.mean_absolute_error(y_new, new_predicted))
print("Mean Square Error ", metrics.mean_squared_error(y_new, new_predicted))
print("Root Mean Error ", math.sqrt(metrics.mean_squared_error(y_new, new_predicted)))


#plot the graph
plt.figure(figsize=(12, 6))
plt.plot(y_new.index, y_new, label = "Actual")
plt.plot(y_new.index, new_predicted, label = "Predicted")
plt.xlabel("Index")
plt.ylabel("Value")
plt.title("Actual vs Predicted")
plt.legend()
plt.show()





# SVR model
svr_model = SVR(kernel='rbf', C=100, epsilon=0.1)  # Kernel options: 'linear', 'poly', 'rbf', 'sigmoid'
svr_model.fit(x_train, y_train)

# Predicted value
predicted = svr_model.predict(x_test)
print("Predicted:", predicted)



# Comparison: predicted vs actual
_datafile = pd.DataFrame({"Actual": y_test, "Predicted": predicted})
print(_datafile)



# Evaluation metrics
print("Mean Absolute Error: ", metrics.mean_absolute_error(y_test, predicted))
print("Mean Square Error: ", metrics.mean_squared_error(y_test, predicted))
print("Root Mean Error: ", np.sqrt(metrics.mean_squared_error(y_test, predicted)))



# Predict on full data
predicted_full = svr_model.predict(x)



# Plot the graph
plt.plot(y.values, label="Actual")
plt.plot(predicted_full, label="Predicted")
plt.xlabel("Index")
plt.ylabel("Value")
plt.title("Actual vs Predicted")
plt.legend()
plt.show()

