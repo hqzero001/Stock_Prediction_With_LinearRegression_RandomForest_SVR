{
 "cells": [
  {
   "cell_type": "markdown",
   "id": "788a7e60-7d16-4785-b415-73b0498ed9ca",
   "metadata": {},
   "source": [
    "<div style=\"text-align: center;\">\n",
    "\n",
    "# *Báo cáo Khai phá dữ liệu và phân tích dữ liệu*\n",
    "# *Linear Regression in AMD stock price prediction*</div>\n",
    "\n",
    "- **<font color='red'>Các thành viên nhóm :</font>**  \n",
    "  ***Trần Phúc Hưng***  \n",
    "  ***Nguyễn Ngọc Thạch***  \n",
    "  ***Nguyễn Sĩ Hồng Quân***  \n",
    "  ***Trần Xuân Đạt***  \n",
    "  ***Hoàng Đức Duy***\n",
    "</div>"
   ]
  },
  {
   "cell_type": "code",
   "execution_count": 103,
   "id": "9c0d822f-f869-4050-9fbd-fbdf110d401a",
   "metadata": {},
   "outputs": [],
   "source": [
    "#import libraries\n",
    "import pandas as pd\n",
    "import numpy as np\n",
    "from sklearn import metrics\n",
    "%matplotlib inline\n",
    "import matplotlib.pyplot as plt\n",
    "import seaborn as sns\n",
    "import mplfinance as mpf\n",
    "\n",
    "import graphviz\n",
    "\n",
    "from collections import Counter\n",
    "\n",
    "from sklearn.preprocessing import LabelEncoder\n",
    "from sklearn.model_selection import train_test_split, GridSearchCV, RandomizedSearchCV, StratifiedKFold, cross_val_score\n",
    "from sklearn.tree import DecisionTreeClassifier\n",
    "from sklearn.ensemble import RandomForestClassifier\n",
    "from sklearn.metrics import accuracy_score, classification_report, precision_score, recall_score, f1_score, confusion_matrix, ConfusionMatrixDisplay\n",
    "from sklearn import datasets\n",
    "from sklearn.tree import plot_tree\n",
    "from sklearn.preprocessing import StandardScaler\n",
    "from sklearn.metrics import mean_squared_error\n",
    "\n",
    "import joblib"
   ]
  },
  {
   "cell_type": "markdown",
   "id": "e74e1384-f41e-41cc-882d-6b8c6623e93d",
   "metadata": {},
   "source": [
    "# **1. Tiền xử lý dữ liệu**"
   ]
  },
  {
   "cell_type": "code",
   "execution_count": 104,
   "id": "2637e7f1-f53f-45b6-83b9-c40513e24cfd",
   "metadata": {},
   "outputs": [
    {
     "data": {
      "text/html": [
       "<div>\n",
       "<style scoped>\n",
       "    .dataframe tbody tr th:only-of-type {\n",
       "        vertical-align: middle;\n",
       "    }\n",
       "\n",
       "    .dataframe tbody tr th {\n",
       "        vertical-align: top;\n",
       "    }\n",
       "\n",
       "    .dataframe thead th {\n",
       "        text-align: right;\n",
       "    }\n",
       "</style>\n",
       "<table border=\"1\" class=\"dataframe\">\n",
       "  <thead>\n",
       "    <tr style=\"text-align: right;\">\n",
       "      <th></th>\n",
       "      <th>Date</th>\n",
       "      <th>Open</th>\n",
       "      <th>High</th>\n",
       "      <th>Low</th>\n",
       "      <th>Close</th>\n",
       "      <th>Adj Close</th>\n",
       "      <th>Volume</th>\n",
       "    </tr>\n",
       "  </thead>\n",
       "  <tbody>\n",
       "    <tr>\n",
       "      <th>0</th>\n",
       "      <td>1980-03-18</td>\n",
       "      <td>0.0</td>\n",
       "      <td>3.125000</td>\n",
       "      <td>2.937500</td>\n",
       "      <td>3.031250</td>\n",
       "      <td>3.031250</td>\n",
       "      <td>727200</td>\n",
       "    </tr>\n",
       "    <tr>\n",
       "      <th>1</th>\n",
       "      <td>1980-03-19</td>\n",
       "      <td>0.0</td>\n",
       "      <td>3.083333</td>\n",
       "      <td>3.020833</td>\n",
       "      <td>3.041667</td>\n",
       "      <td>3.041667</td>\n",
       "      <td>295200</td>\n",
       "    </tr>\n",
       "    <tr>\n",
       "      <th>2</th>\n",
       "      <td>1980-03-20</td>\n",
       "      <td>0.0</td>\n",
       "      <td>3.062500</td>\n",
       "      <td>3.010417</td>\n",
       "      <td>3.010417</td>\n",
       "      <td>3.010417</td>\n",
       "      <td>159600</td>\n",
       "    </tr>\n",
       "    <tr>\n",
       "      <th>3</th>\n",
       "      <td>1980-03-21</td>\n",
       "      <td>0.0</td>\n",
       "      <td>3.020833</td>\n",
       "      <td>2.906250</td>\n",
       "      <td>2.916667</td>\n",
       "      <td>2.916667</td>\n",
       "      <td>130800</td>\n",
       "    </tr>\n",
       "    <tr>\n",
       "      <th>4</th>\n",
       "      <td>1980-03-24</td>\n",
       "      <td>0.0</td>\n",
       "      <td>2.916667</td>\n",
       "      <td>2.635417</td>\n",
       "      <td>2.666667</td>\n",
       "      <td>2.666667</td>\n",
       "      <td>436800</td>\n",
       "    </tr>\n",
       "  </tbody>\n",
       "</table>\n",
       "</div>"
      ],
      "text/plain": [
       "         Date  Open      High       Low     Close  Adj Close  Volume\n",
       "0  1980-03-18   0.0  3.125000  2.937500  3.031250   3.031250  727200\n",
       "1  1980-03-19   0.0  3.083333  3.020833  3.041667   3.041667  295200\n",
       "2  1980-03-20   0.0  3.062500  3.010417  3.010417   3.010417  159600\n",
       "3  1980-03-21   0.0  3.020833  2.906250  2.916667   2.916667  130800\n",
       "4  1980-03-24   0.0  2.916667  2.635417  2.666667   2.666667  436800"
      ]
     },
     "execution_count": 104,
     "metadata": {},
     "output_type": "execute_result"
    }
   ],
   "source": [
    "#load data\n",
    "datafile = pd.read_csv(\"AMD (1980 -11.07.2023).csv\")\n",
    "datafile.head()\n"
   ]
  },
  {
   "cell_type": "code",
   "execution_count": 105,
   "id": "7f0f1827-b105-4bef-8670-f09176a6803c",
   "metadata": {},
   "outputs": [
    {
     "name": "stdout",
     "output_type": "stream",
     "text": [
      "<class 'pandas.core.frame.DataFrame'>\n",
      "RangeIndex: 10919 entries, 0 to 10918\n",
      "Data columns (total 7 columns):\n",
      " #   Column     Non-Null Count  Dtype  \n",
      "---  ------     --------------  -----  \n",
      " 0   Date       10919 non-null  object \n",
      " 1   Open       10919 non-null  float64\n",
      " 2   High       10919 non-null  float64\n",
      " 3   Low        10919 non-null  float64\n",
      " 4   Close      10919 non-null  float64\n",
      " 5   Adj Close  10919 non-null  float64\n",
      " 6   Volume     10919 non-null  int64  \n",
      "dtypes: float64(5), int64(1), object(1)\n",
      "memory usage: 597.3+ KB\n"
     ]
    }
   ],
   "source": [
    "#check file info\n",
    "datafile.info()"
   ]
  },
  {
   "cell_type": "code",
   "execution_count": 106,
   "id": "02b1ddf9-8f42-475a-ab71-d5b1526bb05b",
   "metadata": {},
   "outputs": [
    {
     "data": {
      "text/html": [
       "<div>\n",
       "<style scoped>\n",
       "    .dataframe tbody tr th:only-of-type {\n",
       "        vertical-align: middle;\n",
       "    }\n",
       "\n",
       "    .dataframe tbody tr th {\n",
       "        vertical-align: top;\n",
       "    }\n",
       "\n",
       "    .dataframe thead th {\n",
       "        text-align: right;\n",
       "    }\n",
       "</style>\n",
       "<table border=\"1\" class=\"dataframe\">\n",
       "  <thead>\n",
       "    <tr style=\"text-align: right;\">\n",
       "      <th></th>\n",
       "      <th>count</th>\n",
       "      <th>mean</th>\n",
       "      <th>std</th>\n",
       "      <th>min</th>\n",
       "      <th>25%</th>\n",
       "      <th>50%</th>\n",
       "      <th>75%</th>\n",
       "      <th>max</th>\n",
       "    </tr>\n",
       "  </thead>\n",
       "  <tbody>\n",
       "    <tr>\n",
       "      <th>Open</th>\n",
       "      <td>10919.0</td>\n",
       "      <td>1.684266e+01</td>\n",
       "      <td>2.331772e+01</td>\n",
       "      <td>0.00</td>\n",
       "      <td>4.960000e+00</td>\n",
       "      <td>9.875000e+00</td>\n",
       "      <td>1.612500e+01</td>\n",
       "      <td>1.632800e+02</td>\n",
       "    </tr>\n",
       "    <tr>\n",
       "      <th>High</th>\n",
       "      <td>10919.0</td>\n",
       "      <td>1.751074e+01</td>\n",
       "      <td>2.360961e+01</td>\n",
       "      <td>1.69</td>\n",
       "      <td>5.437500e+00</td>\n",
       "      <td>1.006250e+01</td>\n",
       "      <td>1.640312e+01</td>\n",
       "      <td>1.644600e+02</td>\n",
       "    </tr>\n",
       "    <tr>\n",
       "      <th>Low</th>\n",
       "      <td>10919.0</td>\n",
       "      <td>1.676163e+01</td>\n",
       "      <td>2.261540e+01</td>\n",
       "      <td>1.61</td>\n",
       "      <td>5.125000e+00</td>\n",
       "      <td>9.630000e+00</td>\n",
       "      <td>1.580500e+01</td>\n",
       "      <td>1.561000e+02</td>\n",
       "    </tr>\n",
       "    <tr>\n",
       "      <th>Close</th>\n",
       "      <td>10919.0</td>\n",
       "      <td>1.713893e+01</td>\n",
       "      <td>2.312162e+01</td>\n",
       "      <td>1.62</td>\n",
       "      <td>5.300000e+00</td>\n",
       "      <td>9.875000e+00</td>\n",
       "      <td>1.612000e+01</td>\n",
       "      <td>1.619100e+02</td>\n",
       "    </tr>\n",
       "    <tr>\n",
       "      <th>Adj Close</th>\n",
       "      <td>10919.0</td>\n",
       "      <td>1.713893e+01</td>\n",
       "      <td>2.312162e+01</td>\n",
       "      <td>1.62</td>\n",
       "      <td>5.300000e+00</td>\n",
       "      <td>9.875000e+00</td>\n",
       "      <td>1.612000e+01</td>\n",
       "      <td>1.619100e+02</td>\n",
       "    </tr>\n",
       "    <tr>\n",
       "      <th>Volume</th>\n",
       "      <td>10919.0</td>\n",
       "      <td>1.846495e+07</td>\n",
       "      <td>2.815631e+07</td>\n",
       "      <td>0.00</td>\n",
       "      <td>1.226100e+06</td>\n",
       "      <td>6.833200e+06</td>\n",
       "      <td>2.284015e+07</td>\n",
       "      <td>3.250584e+08</td>\n",
       "    </tr>\n",
       "  </tbody>\n",
       "</table>\n",
       "</div>"
      ],
      "text/plain": [
       "             count          mean           std   min           25%  \\\n",
       "Open       10919.0  1.684266e+01  2.331772e+01  0.00  4.960000e+00   \n",
       "High       10919.0  1.751074e+01  2.360961e+01  1.69  5.437500e+00   \n",
       "Low        10919.0  1.676163e+01  2.261540e+01  1.61  5.125000e+00   \n",
       "Close      10919.0  1.713893e+01  2.312162e+01  1.62  5.300000e+00   \n",
       "Adj Close  10919.0  1.713893e+01  2.312162e+01  1.62  5.300000e+00   \n",
       "Volume     10919.0  1.846495e+07  2.815631e+07  0.00  1.226100e+06   \n",
       "\n",
       "                    50%           75%           max  \n",
       "Open       9.875000e+00  1.612500e+01  1.632800e+02  \n",
       "High       1.006250e+01  1.640312e+01  1.644600e+02  \n",
       "Low        9.630000e+00  1.580500e+01  1.561000e+02  \n",
       "Close      9.875000e+00  1.612000e+01  1.619100e+02  \n",
       "Adj Close  9.875000e+00  1.612000e+01  1.619100e+02  \n",
       "Volume     6.833200e+06  2.284015e+07  3.250584e+08  "
      ]
     },
     "execution_count": 106,
     "metadata": {},
     "output_type": "execute_result"
    }
   ],
   "source": [
    "datafile.describe().T"
   ]
  },
  {
   "cell_type": "code",
   "execution_count": 107,
   "id": "29ac9213-84ac-4d5e-b414-b9b93fb513d3",
   "metadata": {
    "scrolled": true
   },
   "outputs": [
    {
     "data": {
      "text/html": [
       "<div>\n",
       "<style scoped>\n",
       "    .dataframe tbody tr th:only-of-type {\n",
       "        vertical-align: middle;\n",
       "    }\n",
       "\n",
       "    .dataframe tbody tr th {\n",
       "        vertical-align: top;\n",
       "    }\n",
       "\n",
       "    .dataframe thead th {\n",
       "        text-align: right;\n",
       "    }\n",
       "</style>\n",
       "<table border=\"1\" class=\"dataframe\">\n",
       "  <thead>\n",
       "    <tr style=\"text-align: right;\">\n",
       "      <th></th>\n",
       "      <th>Date</th>\n",
       "      <th>Open</th>\n",
       "      <th>High</th>\n",
       "      <th>Low</th>\n",
       "      <th>Close</th>\n",
       "      <th>Adj Close</th>\n",
       "      <th>Volume</th>\n",
       "      <th>Prev_close</th>\n",
       "    </tr>\n",
       "  </thead>\n",
       "  <tbody>\n",
       "    <tr>\n",
       "      <th>0</th>\n",
       "      <td>1980-03-18</td>\n",
       "      <td>0.0</td>\n",
       "      <td>3.125000</td>\n",
       "      <td>2.937500</td>\n",
       "      <td>3.031250</td>\n",
       "      <td>3.031250</td>\n",
       "      <td>727200</td>\n",
       "      <td>NaN</td>\n",
       "    </tr>\n",
       "    <tr>\n",
       "      <th>1</th>\n",
       "      <td>1980-03-19</td>\n",
       "      <td>0.0</td>\n",
       "      <td>3.083333</td>\n",
       "      <td>3.020833</td>\n",
       "      <td>3.041667</td>\n",
       "      <td>3.041667</td>\n",
       "      <td>295200</td>\n",
       "      <td>3.031250</td>\n",
       "    </tr>\n",
       "    <tr>\n",
       "      <th>2</th>\n",
       "      <td>1980-03-20</td>\n",
       "      <td>0.0</td>\n",
       "      <td>3.062500</td>\n",
       "      <td>3.010417</td>\n",
       "      <td>3.010417</td>\n",
       "      <td>3.010417</td>\n",
       "      <td>159600</td>\n",
       "      <td>3.041667</td>\n",
       "    </tr>\n",
       "    <tr>\n",
       "      <th>3</th>\n",
       "      <td>1980-03-21</td>\n",
       "      <td>0.0</td>\n",
       "      <td>3.020833</td>\n",
       "      <td>2.906250</td>\n",
       "      <td>2.916667</td>\n",
       "      <td>2.916667</td>\n",
       "      <td>130800</td>\n",
       "      <td>3.010417</td>\n",
       "    </tr>\n",
       "    <tr>\n",
       "      <th>4</th>\n",
       "      <td>1980-03-24</td>\n",
       "      <td>0.0</td>\n",
       "      <td>2.916667</td>\n",
       "      <td>2.635417</td>\n",
       "      <td>2.666667</td>\n",
       "      <td>2.666667</td>\n",
       "      <td>436800</td>\n",
       "      <td>2.916667</td>\n",
       "    </tr>\n",
       "  </tbody>\n",
       "</table>\n",
       "</div>"
      ],
      "text/plain": [
       "         Date  Open      High       Low     Close  Adj Close  Volume  \\\n",
       "0  1980-03-18   0.0  3.125000  2.937500  3.031250   3.031250  727200   \n",
       "1  1980-03-19   0.0  3.083333  3.020833  3.041667   3.041667  295200   \n",
       "2  1980-03-20   0.0  3.062500  3.010417  3.010417   3.010417  159600   \n",
       "3  1980-03-21   0.0  3.020833  2.906250  2.916667   2.916667  130800   \n",
       "4  1980-03-24   0.0  2.916667  2.635417  2.666667   2.666667  436800   \n",
       "\n",
       "   Prev_close  \n",
       "0         NaN  \n",
       "1    3.031250  \n",
       "2    3.041667  \n",
       "3    3.010417  \n",
       "4    2.916667  "
      ]
     },
     "execution_count": 107,
     "metadata": {},
     "output_type": "execute_result"
    }
   ],
   "source": [
    "#Add Prev_close column to store previous close price\n",
    "series_shifted = datafile['Close'].shift()\n",
    "datafile['Prev_close'] = series_shifted\n",
    "datafile.head()"
   ]
  },
  {
   "cell_type": "code",
   "execution_count": 114,
   "id": "e42b472f-5f97-4c95-b30d-6b25b6ab23a6",
   "metadata": {
    "scrolled": true
   },
   "outputs": [
    {
     "data": {
      "text/plain": [
       "Date          0\n",
       "Open          0\n",
       "High          0\n",
       "Low           0\n",
       "Close         0\n",
       "Adj Close     0\n",
       "Volume        0\n",
       "Prev_close    1\n",
       "dtype: int64"
      ]
     },
     "execution_count": 114,
     "metadata": {},
     "output_type": "execute_result"
    }
   ],
   "source": [
    "#null entries check (need to remove those data)\n",
    "datafile.isnull().sum()"
   ]
  },
  {
   "cell_type": "code",
   "execution_count": 123,
   "id": "1c990d51-a1d3-4098-a5fb-fd10ab9028c6",
   "metadata": {},
   "outputs": [
    {
     "data": {
      "text/plain": [
       "(10918, 8)"
      ]
     },
     "execution_count": 123,
     "metadata": {},
     "output_type": "execute_result"
    }
   ],
   "source": [
    "#drop / remove NaN row or column\n",
    "#inplace = true to execute dropna right on it file so python\n",
    "#dont have to create a copy and we have to re-initialize and\n",
    "#add to a new datafile variable\n",
    "datafile.dropna(inplace = True)\n",
    "datafile.shape"
   ]
  },
  {
   "cell_type": "code",
   "execution_count": 124,
   "id": "9418355d-3a6b-4c5b-ab2a-9e80447fa1fb",
   "metadata": {},
   "outputs": [
    {
     "name": "stdout",
     "output_type": "stream",
     "text": [
      "Cột 'Adj Close' đã được xóa.\n",
      "Tập dữ liệu đã được lưu.\n"
     ]
    }
   ],
   "source": [
    "\n",
    "\n",
    "# Hàm để xóa cột 'Adj Close'\n",
    "def remove_columns(datafile, columns_to_remove):\n",
    "    # Lặp qua các cột cần xóa và kiểm tra xem cột đó có tồn tại trong tập dữ liệu không\n",
    "    for column in columns_to_remove:\n",
    "        if column in datafile.columns:\n",
    "            datafile = datafile.drop(columns=[column])  # Xóa cột\n",
    "            print(f\"Cột '{column}' đã được xóa.\")\n",
    "        else:\n",
    "            print(f\"Cột '{column}' không tồn tại trong tập dữ liệu.\")\n",
    "    return datafile\n",
    "\n",
    "# Cột cần xóa (chỉ xóa 'Adj Close')\n",
    "columns_to_remove = ['Adj Close']\n",
    "\n",
    "# Áp dụng hàm xóa cột 'Adj Close'\n",
    "df_cleaned_without_columns = remove_columns(datafile, columns_to_remove)\n",
    "\n",
    "# Lưu tập dữ liệu mới\n",
    "df_cleaned_without_columns.to_csv(\"AMD_(1980 -11.07.2023).csv_without_Adj_Close.csv\", index=False)\n",
    "\n",
    "# Thông báo kết quả\n",
    "print(\"Tập dữ liệu đã được lưu.\")\n"
   ]
  },
  {
   "cell_type": "markdown",
   "id": "4b1830b8-e81e-474c-bed0-2706ff315ab9",
   "metadata": {},
   "source": [
    "# **2. Phân tích bộ dữ liệu**"
   ]
  },
  {
   "cell_type": "code",
   "execution_count": 125,
   "id": "a918fa53-87c1-43f5-a3e3-1a7e9f8abf38",
   "metadata": {},
   "outputs": [
    {
     "data": {
      "text/plain": [
       "(10918, 7)"
      ]
     },
     "execution_count": 125,
     "metadata": {},
     "output_type": "execute_result"
    }
   ],
   "source": [
    "df = pd.read_csv('AMD_(1980 -11.07.2023).csv_without_Adj_Close.csv')\n",
    "df.shape"
   ]
  },
  {
   "cell_type": "code",
   "execution_count": 129,
   "id": "514c0f1a-e9ff-4e6a-9191-4f3175c35b20",
   "metadata": {},
   "outputs": [
    {
     "data": {
      "image/png": "[encoded data removed]",
      "text/plain": [
       "<Figure size 1200x600 with 1 Axes>"
      ]
     },
     "metadata": {},
     "output_type": "display_data"
    },
    {
     "data": {
      "image/png": "[encoded data removed]",
      "text/plain": [
       "<Figure size 1200x600 with 1 Axes>"
      ]
     },
     "metadata": {},
     "output_type": "display_data"
    },
    {
     "data": {
      "image/png": "[encoded data removed]",
      "text/plain": [
       "<Figure size 1200x600 with 1 Axes>"
      ]
     },
     "metadata": {},
     "output_type": "display_data"
    },
    {
     "data": {
      "image/png": "[encoded data removed]",
      "text/plain": [
       "<Figure size 640x480 with 2 Axes>"
      ]
     },
     "metadata": {},
     "output_type": "display_data"
    },
    {
     "data": {
      "image/png": "[encoded data removed]",
      "text/plain": [
       "<Figure size 1200x600 with 1 Axes>"
      ]
     },
     "metadata": {},
     "output_type": "display_data"
    },
    {
     "data": {
      "application/vnd.plotly.v1+json": {
       "config": {
        "plotlyServerURL": "https://plot.ly"
       },
       "data": [
        {
         "close": [
          100.199997,
          98.269997,
          100.440002,
          95.949997,
          92.839996,
          92.489998,
          92.730003,
          97.18,
          91.18,
          88.489998,
          86.940002,
          84.870003,
          82.330002,
          80.239998,
          78.720001,
          79.610001,
          82.779999,
          85.449997,
          84.639999,
          77.029999,
          77.449997,
          76.660004,
          76.510002,
          76.769997,
          75.25,
          74.480003,
          69.5,
          67.959999,
          66.300003,
          67.169998,
          68.360001,
          64.139999,
          63.360001,
          66.110001,
          67.900002,
          67.940002,
          67.849998,
          58.439999,
          57.810001,
          57.630001,
          57.849998,
          58.939999,
          55.939999,
          57.959999,
          57.919998,
          57.23,
          57.77,
          58.82,
          58.700001,
          61.470001,
          59.73,
          58.599998,
          62.009998,
          60.060001,
          59.66,
          58.630001,
          60.110001,
          62.189999,
          63.080002,
          63.849998,
          59.919998,
          68.470001,
          72.370003,
          73.529999,
          76.370003,
          72.699997,
          73.900002,
          73.57,
          72.459999,
          75.25,
          76.400002,
          75.139999,
          73.190002,
          73.389999,
          77.629997,
          77.480003,
          74.980003,
          73.620003,
          70.269997,
          70.139999,
          70.470001,
          68.589996,
          70.669998,
          71.650002,
          68.93,
          66.529999,
          65.410004,
          64.589996,
          65.050003,
          67.68,
          63.860001,
          64.519997,
          63.27,
          62.57,
          64.82,
          64.769997,
          64.019997,
          64.660004,
          62.330002,
          63.959999,
          67.239998,
          68.050003,
          69.059998,
          70.800003,
          71,
          71.589996,
          70.529999,
          67.709999,
          70.07,
          76.529999,
          74.699997,
          74.910004,
          75.160004,
          75.400002,
          72.449997,
          75.150002,
          84.639999,
          88.309998,
          86.089996,
          83.68,
          85.910004,
          84.690002,
          83.209999,
          81.480003,
          83.129997,
          85.949997,
          85.18,
          80.080002,
          78.5,
          76.769997,
          76.610001,
          79.75,
          78.089996,
          78.769997,
          78.580002,
          78.290001,
          80.440002,
          81.519997,
          81.160004,
          82.110001,
          85.370003,
          84.029999,
          82.669998,
          82.010002,
          87.449997,
          89.68,
          96.599998,
          97.839996,
          96.809998,
          95.93,
          97.580002,
          100.279999,
          97.949997,
          96.610001,
          94.559998,
          96.089996,
          97.879997,
          98.010002,
          96.559998,
          95.870003,
          92.559998,
          92.470001,
          95.480003,
          94.029999,
          92.330002,
          92.089996,
          91.75,
          89.870003,
          89.779999,
          89.940002,
          90.110001,
          88.43,
          87.57,
          83.800003,
          85.940002,
          87.440002,
          89.370003,
          89.690002,
          89.910004,
          81.620003,
          86.610001,
          89.839996,
          95.040001,
          95.059998,
          97.019997,
          97.099998,
          95.260002,
          97.400002,
          101.480003,
          103.75,
          107.93,
          105.82,
          108,
          108.120003,
          108.269997,
          120.349998,
          127.029999,
          125.269997,
          118.209999,
          119.470001,
          117.860001,
          117.93,
          124.230003,
          117.830002,
          121.050003,
          124.919998,
          129.190002,
          124.529999,
          127.330002,
          124.239998,
          120.080002,
          118.93,
          112.110001,
          110.699997,
          110.010002,
          107.510002,
          110.389999,
          110.169998,
          111.239998,
          113.910004,
          115.82,
          113.949997,
          113.480003,
          113.169998,
          113.580002
         ],
         "high": [
          101.449997,
          99.639999,
          101.07,
          99.25,
          95.019997,
          94.440002,
          93.379997,
          97.57,
          97.599998,
          91.190002,
          90.150002,
          86.720001,
          82.760002,
          83.650002,
          80.889999,
          80.25,
          83.449997,
          85.68,
          85.349998,
          81.470001,
          78.080002,
          77.970001,
          76.82,
          77.339996,
          76.580002,
          78.410004,
          74.290001,
          69.080002,
          68.739998,
          68.779999,
          68.800003,
          67.199997,
          65.910004,
          66.910004,
          69.18,
          68.690002,
          70.290001,
          64.029999,
          58.790001,
          58.919998,
          58.32,
          60.139999,
          59.939999,
          58.509998,
          60.490002,
          59.040001,
          60.200001,
          58.91,
          59,
          61.98,
          61.77,
          62.720001,
          62.349998,
          61.860001,
          61.990002,
          63.93,
          62.279999,
          63,
          63.529999,
          64.959999,
          63.049999,
          68.800003,
          73.32,
          75.25,
          79.160004,
          74.830002,
          74.379997,
          75.349998,
          72.980003,
          75.330002,
          78.220001,
          76.040001,
          75.470001,
          74.489998,
          77.699997,
          79.230003,
          76.279999,
          75.169998,
          73.389999,
          71.370003,
          71.220001,
          70.669998,
          70.669998,
          75.209999,
          72,
          68.209999,
          67.190002,
          65.589996,
          66.059998,
          67.849998,
          66.309998,
          64.660004,
          64.279999,
          63.540001,
          65.18,
          64.82,
          66.879997,
          65.790001,
          64.349998,
          64.300003,
          69.32,
          68.150002,
          69.129997,
          71.650002,
          71.099998,
          72.660004,
          72.779999,
          69.25,
          70.129997,
          76.589996,
          75.639999,
          75.120003,
          77.080002,
          76.739998,
          74.639999,
          75.199997,
          85.480003,
          88.940002,
          88.800003,
          86.279999,
          86.25,
          88,
          86.669998,
          82.709999,
          84.150002,
          86.190002,
          85.889999,
          83.349998,
          79.650002,
          78.459999,
          78.129997,
          81.790001,
          78.809998,
          80.120003,
          80.139999,
          80.290001,
          80.919998,
          81.629997,
          83.300003,
          84.849998,
          85.769997,
          87.809998,
          85.449997,
          83.830002,
          88.300003,
          90.419998,
          96.690002,
          98.75,
          96.940002,
          99.459999,
          101.699997,
          102.43,
          99.519997,
          98.93,
          96.940002,
          96.910004,
          99.529999,
          98.360001,
          96.790001,
          97.269997,
          94.5,
          92.910004,
          95.800003,
          96.07,
          95,
          93.160004,
          92.970001,
          90.690002,
          92.160004,
          90.540001,
          91.580002,
          89.800003,
          88.639999,
          87.059998,
          87.349998,
          87.57,
          89.75,
          91.040001,
          90.459999,
          85.480003,
          91.639999,
          90.43,
          95.660004,
          96.160004,
          99.940002,
          99.190002,
          97.449997,
          97.43,
          103.279999,
          104.139999,
          108.099998,
          107.290001,
          108.790001,
          110.989998,
          108.910004,
          120.690002,
          127.43,
          130.789993,
          123.959999,
          121.279999,
          121.660004,
          119.32,
          124.419998,
          125.339996,
          122.209999,
          127.25,
          130.479996,
          132.830002,
          127.730003,
          125.699997,
          125.849998,
          121.75,
          119.190002,
          114,
          111.099998,
          112.550003,
          110.970001,
          111.779999,
          112.760002,
          114.690002,
          116.730003,
          117.660004,
          113.790001,
          115.330002,
          113.610001
         ],
         "low": [
          98.32,
          96.730003,
          96.730003,
          94.589996,
          92.360001,
          92.110001,
          90.900002,
          93.139999,
          91.120003,
          88.260002,
          85.339996,
          83.720001,
          78.519997,
          79.809998,
          78.370003,
          77.739998,
          79.239998,
          83.839996,
          83.459999,
          76.800003,
          75.870003,
          74.910004,
          74.68,
          75.349998,
          74.730003,
          74.449997,
          69.169998,
          66.82,
          66.25,
          66,
          66.559998,
          62.830002,
          63.34,
          63.389999,
          67.330002,
          64.519997,
          67.660004,
          58.220001,
          56.299999,
          56.049999,
          56.32,
          54.57,
          55.84,
          57.099998,
          56.400002,
          56.57,
          57.400002,
          55.709999,
          56.66,
          58.689999,
          59.150002,
          58.509998,
          58.919998,
          59.529999,
          59.43,
          58.57,
          58.029999,
          60.529999,
          61.400002,
          62.369999,
          59.799999,
          63.619999,
          68.290001,
          72.669998,
          75.389999,
          71.93,
          70.160004,
          72.18,
          71.57,
          72.110001,
          75.300003,
          74.75,
          72.57,
          72.779999,
          72.809998,
          76.440002,
          73.650002,
          72.82,
          69.400002,
          69.279999,
          69,
          68.519997,
          67.529999,
          70.660004,
          68.32,
          66.120003,
          64.800003,
          63.709999,
          63.52,
          65.209999,
          62.259998,
          62.720001,
          62.970001,
          61.959999,
          63.060001,
          63.139999,
          63.59,
          63.310001,
          62.299999,
          60.049999,
          65.669998,
          66.559998,
          67.220001,
          67.18,
          69.230003,
          70.650002,
          70.5,
          67.269997,
          67.449997,
          71.540001,
          73.419998,
          72.089996,
          74.279999,
          73.489998,
          72.400002,
          72.029999,
          77.879997,
          83.199997,
          85.830002,
          83.220001,
          82.519997,
          84.540001,
          82.760002,
          80.470001,
          80.900002,
          81.769997,
          83.32,
          80.050003,
          77.370003,
          76.449997,
          75.919998,
          77.970001,
          76.940002,
          78.529999,
          77.419998,
          77.879997,
          76.650002,
          79.339996,
          81.040001,
          80.669998,
          82.279999,
          83.589996,
          81.629997,
          78.519997,
          83.589996,
          86.220001,
          89.019997,
          95.940002,
          92.900002,
          93.639999,
          95.639999,
          98.669998,
          96.739998,
          95.43,
          92.870003,
          94.870003,
          97.25,
          95.269997,
          94.809998,
          95.209999,
          91.360001,
          90.620003,
          91.019997,
          92.690002,
          91.739998,
          91.830002,
          90.5,
          88.300003,
          89.330002,
          88.220001,
          88.730003,
          88.059998,
          86.339996,
          83.760002,
          85.32,
          84.089996,
          86.440002,
          88.610001,
          88.120003,
          81.019997,
          81.110001,
          84.720001,
          89.169998,
          93.43,
          96.120003,
          96.139999,
          93.68,
          93.449997,
          97.309998,
          100.050003,
          103.93,
          104.620003,
          103.489998,
          107.190002,
          105.639999,
          115.800003,
          120.889999,
          123.510002,
          117.860001,
          116.599998,
          117.68,
          116.419998,
          117.739998,
          117.07,
          117.050003,
          123.550003,
          126.400002,
          122.449997,
          123.809998,
          122.260002,
          119.900002,
          117.699997,
          111.669998,
          109.849998,
          107.459999,
          107.199997,
          107.080002,
          107.629997,
          109.839996,
          112.410004,
          114.510002,
          113.860001,
          110.309998,
          113.040001,
          109.879997
         ],
         "open": [
          100.839996,
          99.260002,
          97.739998,
          98.669998,
          94.400002,
          92.389999,
          92.209999,
          93.139999,
          96.290001,
          90.050003,
          90.059998,
          86.279999,
          82.349998,
          83.32,
          80.410004,
          79.239998,
          80.029999,
          84.029999,
          84.889999,
          80.959999,
          77.099998,
          76.639999,
          75.620003,
          75.389999,
          76.080002,
          75.440002,
          73.889999,
          68,
          67.870003,
          67.900002,
          67.110001,
          67.150002,
          63.619999,
          64.459999,
          68.269997,
          66.589996,
          67.82,
          64.010002,
          57.310001,
          57.209999,
          57.450001,
          55.52,
          59.599998,
          57.349998,
          59.91,
          57.330002,
          57.470001,
          57.220001,
          58.57,
          58.77,
          59.689999,
          61.599998,
          59.099998,
          60.75,
          61.490002,
          63,
          58.110001,
          62.5,
          62.93,
          64.089996,
          62.279999,
          64.300003,
          69.580002,
          75.220001,
          77.260002,
          73.660004,
          70.559998,
          75.07,
          72.209999,
          72.720001,
          75.489998,
          75.669998,
          73.809998,
          73.620003,
          73.379997,
          78.309998,
          75.050003,
          74.540001,
          73.080002,
          69.529999,
          70.139999,
          69.489998,
          68.540001,
          74.870003,
          70.93,
          67.599998,
          66.25,
          65.120003,
          63.759998,
          65.43,
          66.080002,
          63.110001,
          63.869999,
          62.540001,
          63.639999,
          63.77,
          66,
          65,
          64.150002,
          63.150002,
          66.220001,
          66.669998,
          68.389999,
          70.07,
          69.839996,
          70.870003,
          71.870003,
          68.970001,
          68.010002,
          72.220001,
          73.75,
          72.900002,
          76.5,
          73.699997,
          74.230003,
          72.260002,
          78.470001,
          84.290001,
          86.660004,
          84.629997,
          84.32,
          85.879997,
          85.879997,
          82.290001,
          81.57,
          82.699997,
          85.099998,
          82.980003,
          79.599998,
          77.150002,
          76.93,
          80.629997,
          77.75,
          79.639999,
          77.870003,
          78.550003,
          77.57,
          80.400002,
          82.029999,
          81.07,
          82.790001,
          85.290001,
          84.470001,
          81.389999,
          83.669998,
          86.769997,
          89.720001,
          96.660004,
          96.300003,
          97,
          95.650002,
          100.050003,
          99.18,
          98.019997,
          96.769997,
          96.07,
          98,
          96.339996,
          96.699997,
          97.040001,
          94.349998,
          91.470001,
          91.32,
          96.059998,
          94.970001,
          92.790001,
          91.82,
          90.230003,
          91.610001,
          88.510002,
          88.830002,
          89.800003,
          88.110001,
          86.900002,
          86.510002,
          86.410004,
          87.019997,
          91.029999,
          89.32,
          83.540001,
          81.57,
          84.989998,
          89.989998,
          94.889999,
          96.419998,
          98.160004,
          96.830002,
          95.199997,
          97.389999,
          101.790001,
          103.980003,
          106.360001,
          104.68,
          107.25,
          105.980003,
          117.309998,
          122.459999,
          130.419998,
          122.419998,
          117.290001,
          120.75,
          116.589996,
          117.910004,
          124.029999,
          118.300003,
          123.57,
          128.520004,
          132.320007,
          126.529999,
          125.389999,
          125.82,
          119.089996,
          118.489998,
          112.239998,
          109.309998,
          110.949997,
          108.57,
          108.209999,
          112.07,
          113.029999,
          115.160004,
          116.099998,
          112.07,
          114.160004,
          113
         ],
         "type": "candlestick",
         "x": [
          "2022-08-16T00:00:00",
          "2022-08-17T00:00:00",
          "2022-08-18T00:00:00",
          "2022-08-19T00:00:00",
          "2022-08-22T00:00:00",
          "2022-08-23T00:00:00",
          "2022-08-24T00:00:00",
          "2022-08-25T00:00:00",
          "2022-08-26T00:00:00",
          "2022-08-29T00:00:00",
          "2022-08-30T00:00:00",
          "2022-08-31T00:00:00",
          "2022-09-01T00:00:00",
          "2022-09-02T00:00:00",
          "2022-09-06T00:00:00",
          "2022-09-07T00:00:00",
          "2022-09-08T00:00:00",
          "2022-09-09T00:00:00",
          "2022-09-12T00:00:00",
          "2022-09-13T00:00:00",
          "2022-09-14T00:00:00",
          "2022-09-15T00:00:00",
          "2022-09-16T00:00:00",
          "2022-09-19T00:00:00",
          "2022-09-20T00:00:00",
          "2022-09-21T00:00:00",
          "2022-09-22T00:00:00",
          "2022-09-23T00:00:00",
          "2022-09-26T00:00:00",
          "2022-09-27T00:00:00",
          "2022-09-28T00:00:00",
          "2022-09-29T00:00:00",
          "2022-09-30T00:00:00",
          "2022-10-03T00:00:00",
          "2022-10-04T00:00:00",
          "2022-10-05T00:00:00",
          "2022-10-06T00:00:00",
          "2022-10-07T00:00:00",
          "2022-10-10T00:00:00",
          "2022-10-11T00:00:00",
          "2022-10-12T00:00:00",
          "2022-10-13T00:00:00",
          "2022-10-14T00:00:00",
          "2022-10-17T00:00:00",
          "2022-10-18T00:00:00",
          "2022-10-19T00:00:00",
          "2022-10-20T00:00:00",
          "2022-10-21T00:00:00",
          "2022-10-24T00:00:00",
          "2022-10-25T00:00:00",
          "2022-10-26T00:00:00",
          "2022-10-27T00:00:00",
          "2022-10-28T00:00:00",
          "2022-10-31T00:00:00",
          "2022-11-01T00:00:00",
          "2022-11-02T00:00:00",
          "2022-11-03T00:00:00",
          "2022-11-04T00:00:00",
          "2022-11-07T00:00:00",
          "2022-11-08T00:00:00",
          "2022-11-09T00:00:00",
          "2022-11-10T00:00:00",
          "2022-11-11T00:00:00",
          "2022-11-14T00:00:00",
          "2022-11-15T00:00:00",
          "2022-11-16T00:00:00",
          "2022-11-17T00:00:00",
          "2022-11-18T00:00:00",
          "2022-11-21T00:00:00",
          "2022-11-22T00:00:00",
          "2022-11-23T00:00:00",
          "2022-11-25T00:00:00",
          "2022-11-28T00:00:00",
          "2022-11-29T00:00:00",
          "2022-11-30T00:00:00",
          "2022-12-01T00:00:00",
          "2022-12-02T00:00:00",
          "2022-12-05T00:00:00",
          "2022-12-06T00:00:00",
          "2022-12-07T00:00:00",
          "2022-12-08T00:00:00",
          "2022-12-09T00:00:00",
          "2022-12-12T00:00:00",
          "2022-12-13T00:00:00",
          "2022-12-14T00:00:00",
          "2022-12-15T00:00:00",
          "2022-12-16T00:00:00",
          "2022-12-19T00:00:00",
          "2022-12-20T00:00:00",
          "2022-12-21T00:00:00",
          "2022-12-22T00:00:00",
          "2022-12-23T00:00:00",
          "2022-12-27T00:00:00",
          "2022-12-28T00:00:00",
          "2022-12-29T00:00:00",
          "2022-12-30T00:00:00",
          "2023-01-03T00:00:00",
          "2023-01-04T00:00:00",
          "2023-01-05T00:00:00",
          "2023-01-06T00:00:00",
          "2023-01-09T00:00:00",
          "2023-01-10T00:00:00",
          "2023-01-11T00:00:00",
          "2023-01-12T00:00:00",
          "2023-01-13T00:00:00",
          "2023-01-17T00:00:00",
          "2023-01-18T00:00:00",
          "2023-01-19T00:00:00",
          "2023-01-20T00:00:00",
          "2023-01-23T00:00:00",
          "2023-01-24T00:00:00",
          "2023-01-25T00:00:00",
          "2023-01-26T00:00:00",
          "2023-01-27T00:00:00",
          "2023-01-30T00:00:00",
          "2023-01-31T00:00:00",
          "2023-02-01T00:00:00",
          "2023-02-02T00:00:00",
          "2023-02-03T00:00:00",
          "2023-02-06T00:00:00",
          "2023-02-07T00:00:00",
          "2023-02-08T00:00:00",
          "2023-02-09T00:00:00",
          "2023-02-10T00:00:00",
          "2023-02-13T00:00:00",
          "2023-02-14T00:00:00",
          "2023-02-15T00:00:00",
          "2023-02-16T00:00:00",
          "2023-02-17T00:00:00",
          "2023-02-21T00:00:00",
          "2023-02-22T00:00:00",
          "2023-02-23T00:00:00",
          "2023-02-24T00:00:00",
          "2023-02-27T00:00:00",
          "2023-02-28T00:00:00",
          "2023-03-01T00:00:00",
          "2023-03-02T00:00:00",
          "2023-03-03T00:00:00",
          "2023-03-06T00:00:00",
          "2023-03-07T00:00:00",
          "2023-03-08T00:00:00",
          "2023-03-09T00:00:00",
          "2023-03-10T00:00:00",
          "2023-03-13T00:00:00",
          "2023-03-14T00:00:00",
          "2023-03-15T00:00:00",
          "2023-03-16T00:00:00",
          "2023-03-17T00:00:00",
          "2023-03-20T00:00:00",
          "2023-03-21T00:00:00",
          "2023-03-22T00:00:00",
          "2023-03-23T00:00:00",
          "2023-03-24T00:00:00",
          "2023-03-27T00:00:00",
          "2023-03-28T00:00:00",
          "2023-03-29T00:00:00",
          "2023-03-30T00:00:00",
          "2023-03-31T00:00:00",
          "2023-04-03T00:00:00",
          "2023-04-04T00:00:00",
          "2023-04-05T00:00:00",
          "2023-04-06T00:00:00",
          "2023-04-10T00:00:00",
          "2023-04-11T00:00:00",
          "2023-04-12T00:00:00",
          "2023-04-13T00:00:00",
          "2023-04-14T00:00:00",
          "2023-04-17T00:00:00",
          "2023-04-18T00:00:00",
          "2023-04-19T00:00:00",
          "2023-04-20T00:00:00",
          "2023-04-21T00:00:00",
          "2023-04-24T00:00:00",
          "2023-04-25T00:00:00",
          "2023-04-26T00:00:00",
          "2023-04-27T00:00:00",
          "2023-04-28T00:00:00",
          "2023-05-01T00:00:00",
          "2023-05-02T00:00:00",
          "2023-05-03T00:00:00",
          "2023-05-04T00:00:00",
          "2023-05-05T00:00:00",
          "2023-05-08T00:00:00",
          "2023-05-09T00:00:00",
          "2023-05-10T00:00:00",
          "2023-05-11T00:00:00",
          "2023-05-12T00:00:00",
          "2023-05-15T00:00:00",
          "2023-05-16T00:00:00",
          "2023-05-17T00:00:00",
          "2023-05-18T00:00:00",
          "2023-05-19T00:00:00",
          "2023-05-22T00:00:00",
          "2023-05-23T00:00:00",
          "2023-05-24T00:00:00",
          "2023-05-25T00:00:00",
          "2023-05-26T00:00:00",
          "2023-05-30T00:00:00",
          "2023-05-31T00:00:00",
          "2023-06-01T00:00:00",
          "2023-06-02T00:00:00",
          "2023-06-05T00:00:00",
          "2023-06-06T00:00:00",
          "2023-06-07T00:00:00",
          "2023-06-08T00:00:00",
          "2023-06-09T00:00:00",
          "2023-06-12T00:00:00",
          "2023-06-13T00:00:00",
          "2023-06-14T00:00:00",
          "2023-06-15T00:00:00",
          "2023-06-16T00:00:00",
          "2023-06-20T00:00:00",
          "2023-06-21T00:00:00",
          "2023-06-22T00:00:00",
          "2023-06-23T00:00:00",
          "2023-06-26T00:00:00",
          "2023-06-27T00:00:00",
          "2023-06-28T00:00:00",
          "2023-06-29T00:00:00",
          "2023-06-30T00:00:00",
          "2023-07-03T00:00:00",
          "2023-07-05T00:00:00",
          "2023-07-06T00:00:00",
          "2023-07-07T00:00:00",
          "2023-07-10T00:00:00"
         ]
        }
       ],
       "layout": {
        "template": {
         "data": {
          "bar": [
           {
            "error_x": {
             "color": "#2a3f5f"
            },
            "error_y": {
             "color": "#2a3f5f"
            },
            "marker": {
             "line": {
              "color": "#E5ECF6",
              "width": 0.5
             },
             "pattern": {
              "fillmode": "overlay",
              "size": 10,
              "solidity": 0.2
             }
            },
            "type": "bar"
           }
          ],
          "barpolar": [
           {
            "marker": {
             "line": {
              "color": "#E5ECF6",
              "width": 0.5
             },
             "pattern": {
              "fillmode": "overlay",
              "size": 10,
              "solidity": 0.2
             }
            },
            "type": "barpolar"
           }
          ],
          "carpet": [
           {
            "aaxis": {
             "endlinecolor": "#2a3f5f",
             "gridcolor": "white",
             "linecolor": "white",
             "minorgridcolor": "white",
             "startlinecolor": "#2a3f5f"
            },
            "baxis": {
             "endlinecolor": "#2a3f5f",
             "gridcolor": "white",
             "linecolor": "white",
             "minorgridcolor": "white",
             "startlinecolor": "#2a3f5f"
            },
            "type": "carpet"
           }
          ],
          "choropleth": [
           {
            "colorbar": {
             "outlinewidth": 0,
             "ticks": ""
            },
            "type": "choropleth"
           }
          ],
          "contour": [
           {
            "colorbar": {
             "outlinewidth": 0,
             "ticks": ""
            },
            "colorscale": [
             [
              0,
              "#0d0887"
             ],
             [
              0.1111111111111111,
              "#46039f"
             ],
             [
              0.2222222222222222,
              "#7201a8"
             ],
             [
              0.3333333333333333,
              "#9c179e"
             ],
             [
              0.4444444444444444,
              "#bd3786"
             ],
             [
              0.5555555555555556,
              "#d8576b"
             ],
             [
              0.6666666666666666,
              "#ed7953"
             ],
             [
              0.7777777777777778,
              "#fb9f3a"
             ],
             [
              0.8888888888888888,
              "#fdca26"
             ],
             [
              1,
              "#f0f921"
             ]
            ],
            "type": "contour"
           }
          ],
          "contourcarpet": [
           {
            "colorbar": {
             "outlinewidth": 0,
             "ticks": ""
            },
            "type": "contourcarpet"
           }
          ],
          "heatmap": [
           {
            "colorbar": {
             "outlinewidth": 0,
             "ticks": ""
            },
            "colorscale": [
             [
              0,
              "#0d0887"
             ],
             [
              0.1111111111111111,
              "#46039f"
             ],
             [
              0.2222222222222222,
              "#7201a8"
             ],
             [
              0.3333333333333333,
              "#9c179e"
             ],
             [
              0.4444444444444444,
              "#bd3786"
             ],
             [
              0.5555555555555556,
              "#d8576b"
             ],
             [
              0.6666666666666666,
              "#ed7953"
             ],
             [
              0.7777777777777778,
              "#fb9f3a"
             ],
             [
              0.8888888888888888,
              "#fdca26"
             ],
             [
              1,
              "#f0f921"
             ]
            ],
            "type": "heatmap"
           }
          ],
          "heatmapgl": [
           {
            "colorbar": {
             "outlinewidth": 0,
             "ticks": ""
            },
            "colorscale": [
             [
              0,
              "#0d0887"
             ],
             [
              0.1111111111111111,
              "#46039f"
             ],
             [
              0.2222222222222222,
              "#7201a8"
             ],
             [
              0.3333333333333333,
              "#9c179e"
             ],
             [
              0.4444444444444444,
              "#bd3786"
             ],
             [
              0.5555555555555556,
              "#d8576b"
             ],
             [
              0.6666666666666666,
              "#ed7953"
             ],
             [
              0.7777777777777778,
              "#fb9f3a"
             ],
             [
              0.8888888888888888,
              "#fdca26"
             ],
             [
              1,
              "#f0f921"
             ]
            ],
            "type": "heatmapgl"
           }
          ],
          "histogram": [
           {
            "marker": {
             "pattern": {
              "fillmode": "overlay",
              "size": 10,
              "solidity": 0.2
             }
            },
            "type": "histogram"
           }
          ],
          "histogram2d": [
           {
            "colorbar": {
             "outlinewidth": 0,
             "ticks": ""
            },
            "colorscale": [
             [
              0,
              "#0d0887"
             ],
             [
              0.1111111111111111,
              "#46039f"
             ],
             [
              0.2222222222222222,
              "#7201a8"
             ],
             [
              0.3333333333333333,
              "#9c179e"
             ],
             [
              0.4444444444444444,
              "#bd3786"
             ],
             [
              0.5555555555555556,
              "#d8576b"
             ],
             [
              0.6666666666666666,
              "#ed7953"
             ],
             [
              0.7777777777777778,
              "#fb9f3a"
             ],
             [
              0.8888888888888888,
              "#fdca26"
             ],
             [
              1,
              "#f0f921"
             ]
            ],
            "type": "histogram2d"
           }
          ],
          "histogram2dcontour": [
           {
            "colorbar": {
             "outlinewidth": 0,
             "ticks": ""
            },
            "colorscale": [
             [
              0,
              "#0d0887"
             ],
             [
              0.1111111111111111,
              "#46039f"
             ],
             [
              0.2222222222222222,
              "#7201a8"
             ],
             [
              0.3333333333333333,
              "#9c179e"
             ],
             [
              0.4444444444444444,
              "#bd3786"
             ],
             [
              0.5555555555555556,
              "#d8576b"
             ],
             [
              0.6666666666666666,
              "#ed7953"
             ],
             [
              0.7777777777777778,
              "#fb9f3a"
             ],
             [
              0.8888888888888888,
              "#fdca26"
             ],
             [
              1,
              "#f0f921"
             ]
            ],
            "type": "histogram2dcontour"
           }
          ],
          "mesh3d": [
           {
            "colorbar": {
             "outlinewidth": 0,
             "ticks": ""
            },
            "type": "mesh3d"
           }
          ],
          "parcoords": [
           {
            "line": {
             "colorbar": {
              "outlinewidth": 0,
              "ticks": ""
             }
            },
            "type": "parcoords"
           }
          ],
          "pie": [
           {
            "automargin": true,
            "type": "pie"
           }
          ],
          "scatter": [
           {
            "fillpattern": {
             "fillmode": "overlay",
             "size": 10,
             "solidity": 0.2
            },
            "type": "scatter"
           }
          ],
          "scatter3d": [
           {
            "line": {
             "colorbar": {
              "outlinewidth": 0,
              "ticks": ""
             }
            },
            "marker": {
             "colorbar": {
              "outlinewidth": 0,
              "ticks": ""
             }
            },
            "type": "scatter3d"
           }
          ],
          "scattercarpet": [
           {
            "marker": {
             "colorbar": {
              "outlinewidth": 0,
              "ticks": ""
             }
            },
            "type": "scattercarpet"
           }
          ],
          "scattergeo": [
           {
            "marker": {
             "colorbar": {
              "outlinewidth": 0,
              "ticks": ""
             }
            },
            "type": "scattergeo"
           }
          ],
          "scattergl": [
           {
            "marker": {
             "colorbar": {
              "outlinewidth": 0,
              "ticks": ""
             }
            },
            "type": "scattergl"
           }
          ],
          "scattermapbox": [
           {
            "marker": {
             "colorbar": {
              "outlinewidth": 0,
              "ticks": ""
             }
            },
            "type": "scattermapbox"
           }
          ],
          "scatterpolar": [
           {
            "marker": {
             "colorbar": {
              "outlinewidth": 0,
              "ticks": ""
             }
            },
            "type": "scatterpolar"
           }
          ],
          "scatterpolargl": [
           {
            "marker": {
             "colorbar": {
              "outlinewidth": 0,
              "ticks": ""
             }
            },
            "type": "scatterpolargl"
           }
          ],
          "scatterternary": [
           {
            "marker": {
             "colorbar": {
              "outlinewidth": 0,
              "ticks": ""
             }
            },
            "type": "scatterternary"
           }
          ],
          "surface": [
           {
            "colorbar": {
             "outlinewidth": 0,
             "ticks": ""
            },
            "colorscale": [
             [
              0,
              "#0d0887"
             ],
             [
              0.1111111111111111,
              "#46039f"
             ],
             [
              0.2222222222222222,
              "#7201a8"
             ],
             [
              0.3333333333333333,
              "#9c179e"
             ],
             [
              0.4444444444444444,
              "#bd3786"
             ],
             [
              0.5555555555555556,
              "#d8576b"
             ],
             [
              0.6666666666666666,
              "#ed7953"
             ],
             [
              0.7777777777777778,
              "#fb9f3a"
             ],
             [
              0.8888888888888888,
              "#fdca26"
             ],
             [
              1,
              "#f0f921"
             ]
            ],
            "type": "surface"
           }
          ],
          "table": [
           {
            "cells": {
             "fill": {
              "color": "#EBF0F8"
             },
             "line": {
              "color": "white"
             }
            },
            "header": {
             "fill": {
              "color": "#C8D4E3"
             },
             "line": {
              "color": "white"
             }
            },
            "type": "table"
           }
          ]
         },
         "layout": {
          "annotationdefaults": {
           "arrowcolor": "#2a3f5f",
           "arrowhead": 0,
           "arrowwidth": 1
          },
          "autotypenumbers": "strict",
          "coloraxis": {
           "colorbar": {
            "outlinewidth": 0,
            "ticks": ""
           }
          },
          "colorscale": {
           "diverging": [
            [
             0,
             "#8e0152"
            ],
            [
             0.1,
             "#c51b7d"
            ],
            [
             0.2,
             "#de77ae"
            ],
            [
             0.3,
             "#f1b6da"
            ],
            [
             0.4,
             "#fde0ef"
            ],
            [
             0.5,
             "#f7f7f7"
            ],
            [
             0.6,
             "#e6f5d0"
            ],
            [
             0.7,
             "#b8e186"
            ],
            [
             0.8,
             "#7fbc41"
            ],
            [
             0.9,
             "#4d9221"
            ],
            [
             1,
             "#276419"
            ]
           ],
           "sequential": [
            [
             0,
             "#0d0887"
            ],
            [
             0.1111111111111111,
             "#46039f"
            ],
            [
             0.2222222222222222,
             "#7201a8"
            ],
            [
             0.3333333333333333,
             "#9c179e"
            ],
            [
             0.4444444444444444,
             "#bd3786"
            ],
            [
             0.5555555555555556,
             "#d8576b"
            ],
            [
             0.6666666666666666,
             "#ed7953"
            ],
            [
             0.7777777777777778,
             "#fb9f3a"
            ],
            [
             0.8888888888888888,
             "#fdca26"
            ],
            [
             1,
             "#f0f921"
            ]
           ],
           "sequentialminus": [
            [
             0,
             "#0d0887"
            ],
            [
             0.1111111111111111,
             "#46039f"
            ],
            [
             0.2222222222222222,
             "#7201a8"
            ],
            [
             0.3333333333333333,
             "#9c179e"
            ],
            [
             0.4444444444444444,
             "#bd3786"
            ],
            [
             0.5555555555555556,
             "#d8576b"
            ],
            [
             0.6666666666666666,
             "#ed7953"
            ],
            [
             0.7777777777777778,
             "#fb9f3a"
            ],
            [
             0.8888888888888888,
             "#fdca26"
            ],
            [
             1,
             "#f0f921"
            ]
           ]
          },
          "colorway": [
           "#636efa",
           "#EF553B",
           "#00cc96",
           "#ab63fa",
           "#FFA15A",
           "#19d3f3",
           "#FF6692",
           "#B6E880",
           "#FF97FF",
           "#FECB52"
          ],
          "font": {
           "color": "#2a3f5f"
          },
          "geo": {
           "bgcolor": "white",
           "lakecolor": "white",
           "landcolor": "#E5ECF6",
           "showlakes": true,
           "showland": true,
           "subunitcolor": "white"
          },
          "hoverlabel": {
           "align": "left"
          },
          "hovermode": "closest",
          "mapbox": {
           "style": "light"
          },
          "paper_bgcolor": "white",
          "plot_bgcolor": "#E5ECF6",
          "polar": {
           "angularaxis": {
            "gridcolor": "white",
            "linecolor": "white",
            "ticks": ""
           },
           "bgcolor": "#E5ECF6",
           "radialaxis": {
            "gridcolor": "white",
            "linecolor": "white",
            "ticks": ""
           }
          },
          "scene": {
           "xaxis": {
            "backgroundcolor": "#E5ECF6",
            "gridcolor": "white",
            "gridwidth": 2,
            "linecolor": "white",
            "showbackground": true,
            "ticks": "",
            "zerolinecolor": "white"
           },
           "yaxis": {
            "backgroundcolor": "#E5ECF6",
            "gridcolor": "white",
            "gridwidth": 2,
            "linecolor": "white",
            "showbackground": true,
            "ticks": "",
            "zerolinecolor": "white"
           },
           "zaxis": {
            "backgroundcolor": "#E5ECF6",
            "gridcolor": "white",
            "gridwidth": 2,
            "linecolor": "white",
            "showbackground": true,
            "ticks": "",
            "zerolinecolor": "white"
           }
          },
          "shapedefaults": {
           "line": {
            "color": "#2a3f5f"
           }
          },
          "ternary": {
           "aaxis": {
            "gridcolor": "white",
            "linecolor": "white",
            "ticks": ""
           },
           "baxis": {
            "gridcolor": "white",
            "linecolor": "white",
            "ticks": ""
           },
           "bgcolor": "#E5ECF6",
           "caxis": {
            "gridcolor": "white",
            "linecolor": "white",
            "ticks": ""
           }
          },
          "title": {
           "x": 0.05
          },
          "xaxis": {
           "automargin": true,
           "gridcolor": "white",
           "linecolor": "white",
           "ticks": "",
           "title": {
            "standoff": 15
           },
           "zerolinecolor": "white",
           "zerolinewidth": 2
          },
          "yaxis": {
           "automargin": true,
           "gridcolor": "white",
           "linecolor": "white",
           "ticks": "",
           "title": {
            "standoff": 15
           },
           "zerolinecolor": "white",
           "zerolinewidth": 2
          }
         }
        },
        "title": {
         "text": "Biểu đồ Nến (Candle Stick) trong 1 năm"
        },
        "xaxis": {
         "title": {
          "text": "Ngày"
         }
        },
        "yaxis": {
         "title": {
          "text": "Giá cổ phiếu"
         }
        }
       }
      },
      "text/html": [
       "<div>                            <div id=\"4b0c3f6d-55b4-49fa-b4cf-83ce665936d9\" class=\"plotly-graph-div\" style=\"height:525px; width:100%;\"></div>            <script type=\"text/javascript\">                require([\"plotly\"], function(Plotly) {                    window.PLOTLYENV=window.PLOTLYENV || {};                                    if (document.getElementById(\"4b0c3f6d-55b4-49fa-b4cf-83ce665936d9\")) {                    Plotly.newPlot(                        \"4b0c3f6d-55b4-49fa-b4cf-83ce665936d9\",                        [{\"close\":[100.199997,98.269997,100.440002,95.949997,92.839996,92.489998,92.730003,97.18,91.18,88.489998,86.940002,84.870003,82.330002,80.239998,78.720001,79.610001,82.779999,85.449997,84.639999,77.029999,77.449997,76.660004,76.510002,76.769997,75.25,74.480003,69.5,67.959999,66.300003,67.169998,68.360001,64.139999,63.360001,66.110001,67.900002,67.940002,67.849998,58.439999,57.810001,57.630001,57.849998,58.939999,55.939999,57.959999,57.919998,57.23,57.77,58.82,58.700001,61.470001,59.73,58.599998,62.009998,60.060001,59.66,58.630001,60.110001,62.189999,63.080002,63.849998,59.919998,68.470001,72.370003,73.529999,76.370003,72.699997,73.900002,73.57,72.459999,75.25,76.400002,75.139999,73.190002,73.389999,77.629997,77.480003,74.980003,73.620003,70.269997,70.139999,70.470001,68.589996,70.669998,71.650002,68.93,66.529999,65.410004,64.589996,65.050003,67.68,63.860001,64.519997,63.27,62.57,64.82,64.769997,64.019997,64.660004,62.330002,63.959999,67.239998,68.050003,69.059998,70.800003,71.0,71.589996,70.529999,67.709999,70.07,76.529999,74.699997,74.910004,75.160004,75.400002,72.449997,75.150002,84.639999,88.309998,86.089996,83.68,85.910004,84.690002,83.209999,81.480003,83.129997,85.949997,85.18,80.080002,78.5,76.769997,76.610001,79.75,78.089996,78.769997,78.580002,78.290001,80.440002,81.519997,81.160004,82.110001,85.370003,84.029999,82.669998,82.010002,87.449997,89.68,96.599998,97.839996,96.809998,95.93,97.580002,100.279999,97.949997,96.610001,94.559998,96.089996,97.879997,98.010002,96.559998,95.870003,92.559998,92.470001,95.480003,94.029999,92.330002,92.089996,91.75,89.870003,89.779999,89.940002,90.110001,88.43,87.57,83.800003,85.940002,87.440002,89.370003,89.690002,89.910004,81.620003,86.610001,89.839996,95.040001,95.059998,97.019997,97.099998,95.260002,97.400002,101.480003,103.75,107.93,105.82,108.0,108.120003,108.269997,120.349998,127.029999,125.269997,118.209999,119.470001,117.860001,117.93,124.230003,117.830002,121.050003,124.919998,129.190002,124.529999,127.330002,124.239998,120.080002,118.93,112.110001,110.699997,110.010002,107.510002,110.389999,110.169998,111.239998,113.910004,115.82,113.949997,113.480003,113.169998,113.580002],\"high\":[101.449997,99.639999,101.07,99.25,95.019997,94.440002,93.379997,97.57,97.599998,91.190002,90.150002,86.720001,82.760002,83.650002,80.889999,80.25,83.449997,85.68,85.349998,81.470001,78.080002,77.970001,76.82,77.339996,76.580002,78.410004,74.290001,69.080002,68.739998,68.779999,68.800003,67.199997,65.910004,66.910004,69.18,68.690002,70.290001,64.029999,58.790001,58.919998,58.32,60.139999,59.939999,58.509998,60.490002,59.040001,60.200001,58.91,59.0,61.98,61.77,62.720001,62.349998,61.860001,61.990002,63.93,62.279999,63.0,63.529999,64.959999,63.049999,68.800003,73.32,75.25,79.160004,74.830002,74.379997,75.349998,72.980003,75.330002,78.220001,76.040001,75.470001,74.489998,77.699997,79.230003,76.279999,75.169998,73.389999,71.370003,71.220001,70.669998,70.669998,75.209999,72.0,68.209999,67.190002,65.589996,66.059998,67.849998,66.309998,64.660004,64.279999,63.540001,65.18,64.82,66.879997,65.790001,64.349998,64.300003,69.32,68.150002,69.129997,71.650002,71.099998,72.660004,72.779999,69.25,70.129997,76.589996,75.639999,75.120003,77.080002,76.739998,74.639999,75.199997,85.480003,88.940002,88.800003,86.279999,86.25,88.0,86.669998,82.709999,84.150002,86.190002,85.889999,83.349998,79.650002,78.459999,78.129997,81.790001,78.809998,80.120003,80.139999,80.290001,80.919998,81.629997,83.300003,84.849998,85.769997,87.809998,85.449997,83.830002,88.300003,90.419998,96.690002,98.75,96.940002,99.459999,101.699997,102.43,99.519997,98.93,96.940002,96.910004,99.529999,98.360001,96.790001,97.269997,94.5,92.910004,95.800003,96.07,95.0,93.160004,92.970001,90.690002,92.160004,90.540001,91.580002,89.800003,88.639999,87.059998,87.349998,87.57,89.75,91.040001,90.459999,85.480003,91.639999,90.43,95.660004,96.160004,99.940002,99.190002,97.449997,97.43,103.279999,104.139999,108.099998,107.290001,108.790001,110.989998,108.910004,120.690002,127.43,130.789993,123.959999,121.279999,121.660004,119.32,124.419998,125.339996,122.209999,127.25,130.479996,132.830002,127.730003,125.699997,125.849998,121.75,119.190002,114.0,111.099998,112.550003,110.970001,111.779999,112.760002,114.690002,116.730003,117.660004,113.790001,115.330002,113.610001],\"low\":[98.32,96.730003,96.730003,94.589996,92.360001,92.110001,90.900002,93.139999,91.120003,88.260002,85.339996,83.720001,78.519997,79.809998,78.370003,77.739998,79.239998,83.839996,83.459999,76.800003,75.870003,74.910004,74.68,75.349998,74.730003,74.449997,69.169998,66.82,66.25,66.0,66.559998,62.830002,63.34,63.389999,67.330002,64.519997,67.660004,58.220001,56.299999,56.049999,56.32,54.57,55.84,57.099998,56.400002,56.57,57.400002,55.709999,56.66,58.689999,59.150002,58.509998,58.919998,59.529999,59.43,58.57,58.029999,60.529999,61.400002,62.369999,59.799999,63.619999,68.290001,72.669998,75.389999,71.93,70.160004,72.18,71.57,72.110001,75.300003,74.75,72.57,72.779999,72.809998,76.440002,73.650002,72.82,69.400002,69.279999,69.0,68.519997,67.529999,70.660004,68.32,66.120003,64.800003,63.709999,63.52,65.209999,62.259998,62.720001,62.970001,61.959999,63.060001,63.139999,63.59,63.310001,62.299999,60.049999,65.669998,66.559998,67.220001,67.18,69.230003,70.650002,70.5,67.269997,67.449997,71.540001,73.419998,72.089996,74.279999,73.489998,72.400002,72.029999,77.879997,83.199997,85.830002,83.220001,82.519997,84.540001,82.760002,80.470001,80.900002,81.769997,83.32,80.050003,77.370003,76.449997,75.919998,77.970001,76.940002,78.529999,77.419998,77.879997,76.650002,79.339996,81.040001,80.669998,82.279999,83.589996,81.629997,78.519997,83.589996,86.220001,89.019997,95.940002,92.900002,93.639999,95.639999,98.669998,96.739998,95.43,92.870003,94.870003,97.25,95.269997,94.809998,95.209999,91.360001,90.620003,91.019997,92.690002,91.739998,91.830002,90.5,88.300003,89.330002,88.220001,88.730003,88.059998,86.339996,83.760002,85.32,84.089996,86.440002,88.610001,88.120003,81.019997,81.110001,84.720001,89.169998,93.43,96.120003,96.139999,93.68,93.449997,97.309998,100.050003,103.93,104.620003,103.489998,107.190002,105.639999,115.800003,120.889999,123.510002,117.860001,116.599998,117.68,116.419998,117.739998,117.07,117.050003,123.550003,126.400002,122.449997,123.809998,122.260002,119.900002,117.699997,111.669998,109.849998,107.459999,107.199997,107.080002,107.629997,109.839996,112.410004,114.510002,113.860001,110.309998,113.040001,109.879997],\"open\":[100.839996,99.260002,97.739998,98.669998,94.400002,92.389999,92.209999,93.139999,96.290001,90.050003,90.059998,86.279999,82.349998,83.32,80.410004,79.239998,80.029999,84.029999,84.889999,80.959999,77.099998,76.639999,75.620003,75.389999,76.080002,75.440002,73.889999,68.0,67.870003,67.900002,67.110001,67.150002,63.619999,64.459999,68.269997,66.589996,67.82,64.010002,57.310001,57.209999,57.450001,55.52,59.599998,57.349998,59.91,57.330002,57.470001,57.220001,58.57,58.77,59.689999,61.599998,59.099998,60.75,61.490002,63.0,58.110001,62.5,62.93,64.089996,62.279999,64.300003,69.580002,75.220001,77.260002,73.660004,70.559998,75.07,72.209999,72.720001,75.489998,75.669998,73.809998,73.620003,73.379997,78.309998,75.050003,74.540001,73.080002,69.529999,70.139999,69.489998,68.540001,74.870003,70.93,67.599998,66.25,65.120003,63.759998,65.43,66.080002,63.110001,63.869999,62.540001,63.639999,63.77,66.0,65.0,64.150002,63.150002,66.220001,66.669998,68.389999,70.07,69.839996,70.870003,71.870003,68.970001,68.010002,72.220001,73.75,72.900002,76.5,73.699997,74.230003,72.260002,78.470001,84.290001,86.660004,84.629997,84.32,85.879997,85.879997,82.290001,81.57,82.699997,85.099998,82.980003,79.599998,77.150002,76.93,80.629997,77.75,79.639999,77.870003,78.550003,77.57,80.400002,82.029999,81.07,82.790001,85.290001,84.470001,81.389999,83.669998,86.769997,89.720001,96.660004,96.300003,97.0,95.650002,100.050003,99.18,98.019997,96.769997,96.07,98.0,96.339996,96.699997,97.040001,94.349998,91.470001,91.32,96.059998,94.970001,92.790001,91.82,90.230003,91.610001,88.510002,88.830002,89.800003,88.110001,86.900002,86.510002,86.410004,87.019997,91.029999,89.32,83.540001,81.57,84.989998,89.989998,94.889999,96.419998,98.160004,96.830002,95.199997,97.389999,101.790001,103.980003,106.360001,104.68,107.25,105.980003,117.309998,122.459999,130.419998,122.419998,117.290001,120.75,116.589996,117.910004,124.029999,118.300003,123.57,128.520004,132.320007,126.529999,125.389999,125.82,119.089996,118.489998,112.239998,109.309998,110.949997,108.57,108.209999,112.07,113.029999,115.160004,116.099998,112.07,114.160004,113.0],\"x\":[\"2022-08-16T00:00:00\",\"2022-08-17T00:00:00\",\"2022-08-18T00:00:00\",\"2022-08-19T00:00:00\",\"2022-08-22T00:00:00\",\"2022-08-23T00:00:00\",\"2022-08-24T00:00:00\",\"2022-08-25T00:00:00\",\"2022-08-26T00:00:00\",\"2022-08-29T00:00:00\",\"2022-08-30T00:00:00\",\"2022-08-31T00:00:00\",\"2022-09-01T00:00:00\",\"2022-09-02T00:00:00\",\"2022-09-06T00:00:00\",\"2022-09-07T00:00:00\",\"2022-09-08T00:00:00\",\"2022-09-09T00:00:00\",\"2022-09-12T00:00:00\",\"2022-09-13T00:00:00\",\"2022-09-14T00:00:00\",\"2022-09-15T00:00:00\",\"2022-09-16T00:00:00\",\"2022-09-19T00:00:00\",\"2022-09-20T00:00:00\",\"2022-09-21T00:00:00\",\"2022-09-22T00:00:00\",\"2022-09-23T00:00:00\",\"2022-09-26T00:00:00\",\"2022-09-27T00:00:00\",\"2022-09-28T00:00:00\",\"2022-09-29T00:00:00\",\"2022-09-30T00:00:00\",\"2022-10-03T00:00:00\",\"2022-10-04T00:00:00\",\"2022-10-05T00:00:00\",\"2022-10-06T00:00:00\",\"2022-10-07T00:00:00\",\"2022-10-10T00:00:00\",\"2022-10-11T00:00:00\",\"2022-10-12T00:00:00\",\"2022-10-13T00:00:00\",\"2022-10-14T00:00:00\",\"2022-10-17T00:00:00\",\"2022-10-18T00:00:00\",\"2022-10-19T00:00:00\",\"2022-10-20T00:00:00\",\"2022-10-21T00:00:00\",\"2022-10-24T00:00:00\",\"2022-10-25T00:00:00\",\"2022-10-26T00:00:00\",\"2022-10-27T00:00:00\",\"2022-10-28T00:00:00\",\"2022-10-31T00:00:00\",\"2022-11-01T00:00:00\",\"2022-11-02T00:00:00\",\"2022-11-03T00:00:00\",\"2022-11-04T00:00:00\",\"2022-11-07T00:00:00\",\"2022-11-08T00:00:00\",\"2022-11-09T00:00:00\",\"2022-11-10T00:00:00\",\"2022-11-11T00:00:00\",\"2022-11-14T00:00:00\",\"2022-11-15T00:00:00\",\"2022-11-16T00:00:00\",\"2022-11-17T00:00:00\",\"2022-11-18T00:00:00\",\"2022-11-21T00:00:00\",\"2022-11-22T00:00:00\",\"2022-11-23T00:00:00\",\"2022-11-25T00:00:00\",\"2022-11-28T00:00:00\",\"2022-11-29T00:00:00\",\"2022-11-30T00:00:00\",\"2022-12-01T00:00:00\",\"2022-12-02T00:00:00\",\"2022-12-05T00:00:00\",\"2022-12-06T00:00:00\",\"2022-12-07T00:00:00\",\"2022-12-08T00:00:00\",\"2022-12-09T00:00:00\",\"2022-12-12T00:00:00\",\"2022-12-13T00:00:00\",\"2022-12-14T00:00:00\",\"2022-12-15T00:00:00\",\"2022-12-16T00:00:00\",\"2022-12-19T00:00:00\",\"2022-12-20T00:00:00\",\"2022-12-21T00:00:00\",\"2022-12-22T00:00:00\",\"2022-12-23T00:00:00\",\"2022-12-27T00:00:00\",\"2022-12-28T00:00:00\",\"2022-12-29T00:00:00\",\"2022-12-30T00:00:00\",\"2023-01-03T00:00:00\",\"2023-01-04T00:00:00\",\"2023-01-05T00:00:00\",\"2023-01-06T00:00:00\",\"2023-01-09T00:00:00\",\"2023-01-10T00:00:00\",\"2023-01-11T00:00:00\",\"2023-01-12T00:00:00\",\"2023-01-13T00:00:00\",\"2023-01-17T00:00:00\",\"2023-01-18T00:00:00\",\"2023-01-19T00:00:00\",\"2023-01-20T00:00:00\",\"2023-01-23T00:00:00\",\"2023-01-24T00:00:00\",\"2023-01-25T00:00:00\",\"2023-01-26T00:00:00\",\"2023-01-27T00:00:00\",\"2023-01-30T00:00:00\",\"2023-01-31T00:00:00\",\"2023-02-01T00:00:00\",\"2023-02-02T00:00:00\",\"2023-02-03T00:00:00\",\"2023-02-06T00:00:00\",\"2023-02-07T00:00:00\",\"2023-02-08T00:00:00\",\"2023-02-09T00:00:00\",\"2023-02-10T00:00:00\",\"2023-02-13T00:00:00\",\"2023-02-14T00:00:00\",\"2023-02-15T00:00:00\",\"2023-02-16T00:00:00\",\"2023-02-17T00:00:00\",\"2023-02-21T00:00:00\",\"2023-02-22T00:00:00\",\"2023-02-23T00:00:00\",\"2023-02-24T00:00:00\",\"2023-02-27T00:00:00\",\"2023-02-28T00:00:00\",\"2023-03-01T00:00:00\",\"2023-03-02T00:00:00\",\"2023-03-03T00:00:00\",\"2023-03-06T00:00:00\",\"2023-03-07T00:00:00\",\"2023-03-08T00:00:00\",\"2023-03-09T00:00:00\",\"2023-03-10T00:00:00\",\"2023-03-13T00:00:00\",\"2023-03-14T00:00:00\",\"2023-03-15T00:00:00\",\"2023-03-16T00:00:00\",\"2023-03-17T00:00:00\",\"2023-03-20T00:00:00\",\"2023-03-21T00:00:00\",\"2023-03-22T00:00:00\",\"2023-03-23T00:00:00\",\"2023-03-24T00:00:00\",\"2023-03-27T00:00:00\",\"2023-03-28T00:00:00\",\"2023-03-29T00:00:00\",\"2023-03-30T00:00:00\",\"2023-03-31T00:00:00\",\"2023-04-03T00:00:00\",\"2023-04-04T00:00:00\",\"2023-04-05T00:00:00\",\"2023-04-06T00:00:00\",\"2023-04-10T00:00:00\",\"2023-04-11T00:00:00\",\"2023-04-12T00:00:00\",\"2023-04-13T00:00:00\",\"2023-04-14T00:00:00\",\"2023-04-17T00:00:00\",\"2023-04-18T00:00:00\",\"2023-04-19T00:00:00\",\"2023-04-20T00:00:00\",\"2023-04-21T00:00:00\",\"2023-04-24T00:00:00\",\"2023-04-25T00:00:00\",\"2023-04-26T00:00:00\",\"2023-04-27T00:00:00\",\"2023-04-28T00:00:00\",\"2023-05-01T00:00:00\",\"2023-05-02T00:00:00\",\"2023-05-03T00:00:00\",\"2023-05-04T00:00:00\",\"2023-05-05T00:00:00\",\"2023-05-08T00:00:00\",\"2023-05-09T00:00:00\",\"2023-05-10T00:00:00\",\"2023-05-11T00:00:00\",\"2023-05-12T00:00:00\",\"2023-05-15T00:00:00\",\"2023-05-16T00:00:00\",\"2023-05-17T00:00:00\",\"2023-05-18T00:00:00\",\"2023-05-19T00:00:00\",\"2023-05-22T00:00:00\",\"2023-05-23T00:00:00\",\"2023-05-24T00:00:00\",\"2023-05-25T00:00:00\",\"2023-05-26T00:00:00\",\"2023-05-30T00:00:00\",\"2023-05-31T00:00:00\",\"2023-06-01T00:00:00\",\"2023-06-02T00:00:00\",\"2023-06-05T00:00:00\",\"2023-06-06T00:00:00\",\"2023-06-07T00:00:00\",\"2023-06-08T00:00:00\",\"2023-06-09T00:00:00\",\"2023-06-12T00:00:00\",\"2023-06-13T00:00:00\",\"2023-06-14T00:00:00\",\"2023-06-15T00:00:00\",\"2023-06-16T00:00:00\",\"2023-06-20T00:00:00\",\"2023-06-21T00:00:00\",\"2023-06-22T00:00:00\",\"2023-06-23T00:00:00\",\"2023-06-26T00:00:00\",\"2023-06-27T00:00:00\",\"2023-06-28T00:00:00\",\"2023-06-29T00:00:00\",\"2023-06-30T00:00:00\",\"2023-07-03T00:00:00\",\"2023-07-05T00:00:00\",\"2023-07-06T00:00:00\",\"2023-07-07T00:00:00\",\"2023-07-10T00:00:00\"],\"type\":\"candlestick\"}],                        {\"template\":{\"data\":{\"histogram2dcontour\":[{\"type\":\"histogram2dcontour\",\"colorbar\":{\"outlinewidth\":0,\"ticks\":\"\"},\"colorscale\":[[0.0,\"#0d0887\"],[0.1111111111111111,\"#46039f\"],[0.2222222222222222,\"#7201a8\"],[0.3333333333333333,\"#9c179e\"],[0.4444444444444444,\"#bd3786\"],[0.5555555555555556,\"#d8576b\"],[0.6666666666666666,\"#ed7953\"],[0.7777777777777778,\"#fb9f3a\"],[0.8888888888888888,\"#fdca26\"],[1.0,\"#f0f921\"]]}],\"choropleth\":[{\"type\":\"choropleth\",\"colorbar\":{\"outlinewidth\":0,\"ticks\":\"\"}}],\"histogram2d\":[{\"type\":\"histogram2d\",\"colorbar\":{\"outlinewidth\":0,\"ticks\":\"\"},\"colorscale\":[[0.0,\"#0d0887\"],[0.1111111111111111,\"#46039f\"],[0.2222222222222222,\"#7201a8\"],[0.3333333333333333,\"#9c179e\"],[0.4444444444444444,\"#bd3786\"],[0.5555555555555556,\"#d8576b\"],[0.6666666666666666,\"#ed7953\"],[0.7777777777777778,\"#fb9f3a\"],[0.8888888888888888,\"#fdca26\"],[1.0,\"#f0f921\"]]}],\"heatmap\":[{\"type\":\"heatmap\",\"colorbar\":{\"outlinewidth\":0,\"ticks\":\"\"},\"colorscale\":[[0.0,\"#0d0887\"],[0.1111111111111111,\"#46039f\"],[0.2222222222222222,\"#7201a8\"],[0.3333333333333333,\"#9c179e\"],[0.4444444444444444,\"#bd3786\"],[0.5555555555555556,\"#d8576b\"],[0.6666666666666666,\"#ed7953\"],[0.7777777777777778,\"#fb9f3a\"],[0.8888888888888888,\"#fdca26\"],[1.0,\"#f0f921\"]]}],\"heatmapgl\":[{\"type\":\"heatmapgl\",\"colorbar\":{\"outlinewidth\":0,\"ticks\":\"\"},\"colorscale\":[[0.0,\"#0d0887\"],[0.1111111111111111,\"#46039f\"],[0.2222222222222222,\"#7201a8\"],[0.3333333333333333,\"#9c179e\"],[0.4444444444444444,\"#bd3786\"],[0.5555555555555556,\"#d8576b\"],[0.6666666666666666,\"#ed7953\"],[0.7777777777777778,\"#fb9f3a\"],[0.8888888888888888,\"#fdca26\"],[1.0,\"#f0f921\"]]}],\"contourcarpet\":[{\"type\":\"contourcarpet\",\"colorbar\":{\"outlinewidth\":0,\"ticks\":\"\"}}],\"contour\":[{\"type\":\"contour\",\"colorbar\":{\"outlinewidth\":0,\"ticks\":\"\"},\"colorscale\":[[0.0,\"#0d0887\"],[0.1111111111111111,\"#46039f\"],[0.2222222222222222,\"#7201a8\"],[0.3333333333333333,\"#9c179e\"],[0.4444444444444444,\"#bd3786\"],[0.5555555555555556,\"#d8576b\"],[0.6666666666666666,\"#ed7953\"],[0.7777777777777778,\"#fb9f3a\"],[0.8888888888888888,\"#fdca26\"],[1.0,\"#f0f921\"]]}],\"surface\":[{\"type\":\"surface\",\"colorbar\":{\"outlinewidth\":0,\"ticks\":\"\"},\"colorscale\":[[0.0,\"#0d0887\"],[0.1111111111111111,\"#46039f\"],[0.2222222222222222,\"#7201a8\"],[0.3333333333333333,\"#9c179e\"],[0.4444444444444444,\"#bd3786\"],[0.5555555555555556,\"#d8576b\"],[0.6666666666666666,\"#ed7953\"],[0.7777777777777778,\"#fb9f3a\"],[0.8888888888888888,\"#fdca26\"],[1.0,\"#f0f921\"]]}],\"mesh3d\":[{\"type\":\"mesh3d\",\"colorbar\":{\"outlinewidth\":0,\"ticks\":\"\"}}],\"scatter\":[{\"fillpattern\":{\"fillmode\":\"overlay\",\"size\":10,\"solidity\":0.2},\"type\":\"scatter\"}],\"parcoords\":[{\"type\":\"parcoords\",\"line\":{\"colorbar\":{\"outlinewidth\":0,\"ticks\":\"\"}}}],\"scatterpolargl\":[{\"type\":\"scatterpolargl\",\"marker\":{\"colorbar\":{\"outlinewidth\":0,\"ticks\":\"\"}}}],\"bar\":[{\"error_x\":{\"color\":\"#2a3f5f\"},\"error_y\":{\"color\":\"#2a3f5f\"},\"marker\":{\"line\":{\"color\":\"#E5ECF6\",\"width\":0.5},\"pattern\":{\"fillmode\":\"overlay\",\"size\":10,\"solidity\":0.2}},\"type\":\"bar\"}],\"scattergeo\":[{\"type\":\"scattergeo\",\"marker\":{\"colorbar\":{\"outlinewidth\":0,\"ticks\":\"\"}}}],\"scatterpolar\":[{\"type\":\"scatterpolar\",\"marker\":{\"colorbar\":{\"outlinewidth\":0,\"ticks\":\"\"}}}],\"histogram\":[{\"marker\":{\"pattern\":{\"fillmode\":\"overlay\",\"size\":10,\"solidity\":0.2}},\"type\":\"histogram\"}],\"scattergl\":[{\"type\":\"scattergl\",\"marker\":{\"colorbar\":{\"outlinewidth\":0,\"ticks\":\"\"}}}],\"scatter3d\":[{\"type\":\"scatter3d\",\"line\":{\"colorbar\":{\"outlinewidth\":0,\"ticks\":\"\"}},\"marker\":{\"colorbar\":{\"outlinewidth\":0,\"ticks\":\"\"}}}],\"scattermapbox\":[{\"type\":\"scattermapbox\",\"marker\":{\"colorbar\":{\"outlinewidth\":0,\"ticks\":\"\"}}}],\"scatterternary\":[{\"type\":\"scatterternary\",\"marker\":{\"colorbar\":{\"outlinewidth\":0,\"ticks\":\"\"}}}],\"scattercarpet\":[{\"type\":\"scattercarpet\",\"marker\":{\"colorbar\":{\"outlinewidth\":0,\"ticks\":\"\"}}}],\"carpet\":[{\"aaxis\":{\"endlinecolor\":\"#2a3f5f\",\"gridcolor\":\"white\",\"linecolor\":\"white\",\"minorgridcolor\":\"white\",\"startlinecolor\":\"#2a3f5f\"},\"baxis\":{\"endlinecolor\":\"#2a3f5f\",\"gridcolor\":\"white\",\"linecolor\":\"white\",\"minorgridcolor\":\"white\",\"startlinecolor\":\"#2a3f5f\"},\"type\":\"carpet\"}],\"table\":[{\"cells\":{\"fill\":{\"color\":\"#EBF0F8\"},\"line\":{\"color\":\"white\"}},\"header\":{\"fill\":{\"color\":\"#C8D4E3\"},\"line\":{\"color\":\"white\"}},\"type\":\"table\"}],\"barpolar\":[{\"marker\":{\"line\":{\"color\":\"#E5ECF6\",\"width\":0.5},\"pattern\":{\"fillmode\":\"overlay\",\"size\":10,\"solidity\":0.2}},\"type\":\"barpolar\"}],\"pie\":[{\"automargin\":true,\"type\":\"pie\"}]},\"layout\":{\"autotypenumbers\":\"strict\",\"colorway\":[\"#636efa\",\"#EF553B\",\"#00cc96\",\"#ab63fa\",\"#FFA15A\",\"#19d3f3\",\"#FF6692\",\"#B6E880\",\"#FF97FF\",\"#FECB52\"],\"font\":{\"color\":\"#2a3f5f\"},\"hovermode\":\"closest\",\"hoverlabel\":{\"align\":\"left\"},\"paper_bgcolor\":\"white\",\"plot_bgcolor\":\"#E5ECF6\",\"polar\":{\"bgcolor\":\"#E5ECF6\",\"angularaxis\":{\"gridcolor\":\"white\",\"linecolor\":\"white\",\"ticks\":\"\"},\"radialaxis\":{\"gridcolor\":\"white\",\"linecolor\":\"white\",\"ticks\":\"\"}},\"ternary\":{\"bgcolor\":\"#E5ECF6\",\"aaxis\":{\"gridcolor\":\"white\",\"linecolor\":\"white\",\"ticks\":\"\"},\"baxis\":{\"gridcolor\":\"white\",\"linecolor\":\"white\",\"ticks\":\"\"},\"caxis\":{\"gridcolor\":\"white\",\"linecolor\":\"white\",\"ticks\":\"\"}},\"coloraxis\":{\"colorbar\":{\"outlinewidth\":0,\"ticks\":\"\"}},\"colorscale\":{\"sequential\":[[0.0,\"#0d0887\"],[0.1111111111111111,\"#46039f\"],[0.2222222222222222,\"#7201a8\"],[0.3333333333333333,\"#9c179e\"],[0.4444444444444444,\"#bd3786\"],[0.5555555555555556,\"#d8576b\"],[0.6666666666666666,\"#ed7953\"],[0.7777777777777778,\"#fb9f3a\"],[0.8888888888888888,\"#fdca26\"],[1.0,\"#f0f921\"]],\"sequentialminus\":[[0.0,\"#0d0887\"],[0.1111111111111111,\"#46039f\"],[0.2222222222222222,\"#7201a8\"],[0.3333333333333333,\"#9c179e\"],[0.4444444444444444,\"#bd3786\"],[0.5555555555555556,\"#d8576b\"],[0.6666666666666666,\"#ed7953\"],[0.7777777777777778,\"#fb9f3a\"],[0.8888888888888888,\"#fdca26\"],[1.0,\"#f0f921\"]],\"diverging\":[[0,\"#8e0152\"],[0.1,\"#c51b7d\"],[0.2,\"#de77ae\"],[0.3,\"#f1b6da\"],[0.4,\"#fde0ef\"],[0.5,\"#f7f7f7\"],[0.6,\"#e6f5d0\"],[0.7,\"#b8e186\"],[0.8,\"#7fbc41\"],[0.9,\"#4d9221\"],[1,\"#276419\"]]},\"xaxis\":{\"gridcolor\":\"white\",\"linecolor\":\"white\",\"ticks\":\"\",\"title\":{\"standoff\":15},\"zerolinecolor\":\"white\",\"automargin\":true,\"zerolinewidth\":2},\"yaxis\":{\"gridcolor\":\"white\",\"linecolor\":\"white\",\"ticks\":\"\",\"title\":{\"standoff\":15},\"zerolinecolor\":\"white\",\"automargin\":true,\"zerolinewidth\":2},\"scene\":{\"xaxis\":{\"backgroundcolor\":\"#E5ECF6\",\"gridcolor\":\"white\",\"linecolor\":\"white\",\"showbackground\":true,\"ticks\":\"\",\"zerolinecolor\":\"white\",\"gridwidth\":2},\"yaxis\":{\"backgroundcolor\":\"#E5ECF6\",\"gridcolor\":\"white\",\"linecolor\":\"white\",\"showbackground\":true,\"ticks\":\"\",\"zerolinecolor\":\"white\",\"gridwidth\":2},\"zaxis\":{\"backgroundcolor\":\"#E5ECF6\",\"gridcolor\":\"white\",\"linecolor\":\"white\",\"showbackground\":true,\"ticks\":\"\",\"zerolinecolor\":\"white\",\"gridwidth\":2}},\"shapedefaults\":{\"line\":{\"color\":\"#2a3f5f\"}},\"annotationdefaults\":{\"arrowcolor\":\"#2a3f5f\",\"arrowhead\":0,\"arrowwidth\":1},\"geo\":{\"bgcolor\":\"white\",\"landcolor\":\"#E5ECF6\",\"subunitcolor\":\"white\",\"showland\":true,\"showlakes\":true,\"lakecolor\":\"white\"},\"title\":{\"x\":0.05},\"mapbox\":{\"style\":\"light\"}}},\"title\":{\"text\":\"Bi\\u1ec3u \\u0111\\u1ed3 N\\u1ebfn (Candle Stick) trong 1 n\\u0103m\"},\"xaxis\":{\"title\":{\"text\":\"Ng\\u00e0y\"}},\"yaxis\":{\"title\":{\"text\":\"Gi\\u00e1 c\\u1ed5 phi\\u1ebfu\"}}},                        {\"responsive\": true}                    ).then(function(){\n",
       "                            \n",
       "var gd = document.getElementById('4b0c3f6d-55b4-49fa-b4cf-83ce665936d9');\n",
       "var x = new MutationObserver(function (mutations, observer) {{\n",
       "        var display = window.getComputedStyle(gd).display;\n",
       "        if (!display || display === 'none') {{\n",
       "            console.log([gd, 'removed!']);\n",
       "            Plotly.purge(gd);\n",
       "            observer.disconnect();\n",
       "        }}\n",
       "}});\n",
       "\n",
       "// Listen for the removal of the full notebook cells\n",
       "var notebookContainer = gd.closest('#notebook-container');\n",
       "if (notebookContainer) {{\n",
       "    x.observe(notebookContainer, {childList: true});\n",
       "}}\n",
       "\n",
       "// Listen for the clearing of the current output cell\n",
       "var outputEl = gd.closest('.output');\n",
       "if (outputEl) {{\n",
       "    x.observe(outputEl, {childList: true});\n",
       "}}\n",
       "\n",
       "                        })                };                });            </script>        </div>"
      ]
     },
     "metadata": {},
     "output_type": "display_data"
    }
   ],
   "source": [
    "df = pd.read_csv('AMD_(1980 -11.07.2023).csv_without_Adj_Close.csv', parse_dates=['Date'])\n",
    "\n",
    "# Đặt cột 'Date' làm chỉ mục\n",
    "df.set_index('Date', inplace=True)\n",
    "\n",
    "### 1. Lấy mẫu ngẫu nhiên 1000 dòng để hiển thị\n",
    "df_sampled = df.sample(10918)\n",
    "\n",
    "### 2. Lấy dữ liệu của 1 năm gần nhất\n",
    "df_last_year = df.tail(225)  # 225 giao dịch gần nhất (trong năm 2023)\n",
    "\n",
    "# Biểu đồ đường cho dữ liệu 1 năm\n",
    "df_last_year[['Open', 'Close']].plot(figsize=(12, 6), title=\"Biểu đồ giá cổ phiếu trong 1 năm gần nhất\")\n",
    "plt.show()\n",
    "\n",
    "### 3. Lấy dữ liệu 5 năm gần nhất\n",
    "df_last_five_year = df.tail(1262) #1266 giao dịch gần nhất (2018 ~ 2023)\n",
    "df_last_five_year[['Open', 'Close']].plot(figsize=(12, 6), title=\"Biểu đồ giá cổ phiếu trong 5 năm gần nhất\")\n",
    "plt.show()\n",
    "\n",
    "### 4. Tổng hợp dữ liệu theo tháng\n",
    "df_monthly = df.resample('ME').mean()  # Tính trung bình theo tháng\n",
    "\n",
    "# Biểu đồ đường cho dữ liệu tổng hợp theo tháng\n",
    "df_monthly[['Open', 'Close']].plot(figsize=(12, 6), title=\"Biểu đồ giá cổ phiếu trung bình theo tháng\")\n",
    "plt.show()\n",
    "\n",
    "### 5. Ma trận tương quan chỉ với dữ liệu 1000 dòng (để giảm quá tải)\n",
    "df_sampled_corr = df_sampled[['Open', 'Close', 'High', 'Low', 'Volume', 'Prev_close']].corr()\n",
    "sns.heatmap(df_sampled_corr, annot=True, cmap='coolwarm')\n",
    "plt.title(\"Ma trận tương quan (full dữ liệu)\")\n",
    "plt.show()\n",
    "\n",
    "### 6. Biểu đồ tán xạ giữa giá mở cửa và giá đóng cửa trong vòng 1 năm\n",
    "df_last_year.plot(kind='scatter', x='Open', y='Close', figsize=(12, 6), title=\"Biểu đồ Tán xạ giữa giá mở cửa và giá đóng cửa trong 1 năm\")\n",
    "plt.show()\n",
    "\n",
    "import plotly.graph_objects as go\n",
    "\n",
    "### 7.Tạo biểu đồ nến\n",
    "fig = go.Figure(data=[go.Candlestick(x=df_last_year.index,\n",
    "                                     open=df_last_year['Open'],\n",
    "                                     high=df_last_year['High'],\n",
    "                                     low=df_last_year['Low'],\n",
    "                                     close=df_last_year['Close'])])\n",
    "\n",
    "fig.update_layout(title=\"Biểu đồ Nến (Candle Stick) trong 1 năm\",\n",
    "                  xaxis_title=\"Ngày\",\n",
    "                  yaxis_title=\"Giá cổ phiếu\")\n",
    "\n",
    "fig.show()\n",
    "\n",
    "# Nếu không hiển thị, thử lưu ra file HTML\n",
    "fig.write_html(\"candlestick_chart.html\")"
   ]
  },
  {
   "cell_type": "markdown",
   "id": "83c06a0e-9bd8-4a25-8195-bf583f9ca7e9",
   "metadata": {},
   "source": [
    "# 3. Thực nghiệm với thuật toán Linear Regression"
   ]
  },
  {
   "cell_type": "code",
   "execution_count": 313,
   "id": "f39fc3de-a704-4cae-b725-166cdc3ee069",
   "metadata": {},
   "outputs": [
    {
     "name": "stdout",
     "output_type": "stream",
     "text": [
      "(8188, 5) (2730, 5)\n"
     ]
    }
   ],
   "source": [
    "# Đọc dữ liệu từ file\n",
    "df = pd.read_csv('AMD_(1980 -11.07.2023).csv_without_Adj_Close.csv', parse_dates=['Date'])\n",
    "\n",
    "#define target x and y (calculate close)\n",
    "x = df[['Open', 'High', 'Low', 'Prev_close', 'Volume']]\n",
    "y = df['Close']\n",
    "\n",
    "#allocate data for training\n",
    "from sklearn.model_selection import train_test_split\n",
    "from sklearn.linear_model import Ridge\n",
    "\n",
    "x_train, x_test, y_train, y_test = train_test_split(x, y, random_state = 0)\n",
    "\n",
    "#train data check\n",
    "print(x_train.shape, x_test.shape)"
   ]
  },
  {
   "cell_type": "code",
   "execution_count": 314,
   "id": "259e9935-a6e2-4bd3-821c-0a3366048ae2",
   "metadata": {},
   "outputs": [
    {
     "data": {
      "text/html": [
       "<style>#sk-container-id-9 {\n",
       "  /* Definition of color scheme common for light and dark mode */\n",
       "  --sklearn-color-text: black;\n",
       "  --sklearn-color-line: gray;\n",
       "  /* Definition of color scheme for unfitted estimators */\n",
       "  --sklearn-color-unfitted-level-0: #fff5e6;\n",
       "  --sklearn-color-unfitted-level-1: #f6e4d2;\n",
       "  --sklearn-color-unfitted-level-2: #ffe0b3;\n",
       "  --sklearn-color-unfitted-level-3: chocolate;\n",
       "  /* Definition of color scheme for fitted estimators */\n",
       "  --sklearn-color-fitted-level-0: #f0f8ff;\n",
       "  --sklearn-color-fitted-level-1: #d4ebff;\n",
       "  --sklearn-color-fitted-level-2: #b3dbfd;\n",
       "  --sklearn-color-fitted-level-3: cornflowerblue;\n",
       "\n",
       "  /* Specific color for light theme */\n",
       "  --sklearn-color-text-on-default-background: var(--sg-text-color, var(--theme-code-foreground, var(--jp-content-font-color1, black)));\n",
       "  --sklearn-color-background: var(--sg-background-color, var(--theme-background, var(--jp-layout-color0, white)));\n",
       "  --sklearn-color-border-box: var(--sg-text-color, var(--theme-code-foreground, var(--jp-content-font-color1, black)));\n",
       "  --sklearn-color-icon: #696969;\n",
       "\n",
       "  @media (prefers-color-scheme: dark) {\n",
       "    /* Redefinition of color scheme for dark theme */\n",
       "    --sklearn-color-text-on-default-background: var(--sg-text-color, var(--theme-code-foreground, var(--jp-content-font-color1, white)));\n",
       "    --sklearn-color-background: var(--sg-background-color, var(--theme-background, var(--jp-layout-color0, #111)));\n",
       "    --sklearn-color-border-box: var(--sg-text-color, var(--theme-code-foreground, var(--jp-content-font-color1, white)));\n",
       "    --sklearn-color-icon: #878787;\n",
       "  }\n",
       "}\n",
       "\n",
       "#sk-container-id-9 {\n",
       "  color: var(--sklearn-color-text);\n",
       "}\n",
       "\n",
       "#sk-container-id-9 pre {\n",
       "  padding: 0;\n",
       "}\n",
       "\n",
       "#sk-container-id-9 input.sk-hidden--visually {\n",
       "  border: 0;\n",
       "  clip: rect(1px 1px 1px 1px);\n",
       "  clip: rect(1px, 1px, 1px, 1px);\n",
       "  height: 1px;\n",
       "  margin: -1px;\n",
       "  overflow: hidden;\n",
       "  padding: 0;\n",
       "  position: absolute;\n",
       "  width: 1px;\n",
       "}\n",
       "\n",
       "#sk-container-id-9 div.sk-dashed-wrapped {\n",
       "  border: 1px dashed var(--sklearn-color-line);\n",
       "  margin: 0 0.4em 0.5em 0.4em;\n",
       "  box-sizing: border-box;\n",
       "  padding-bottom: 0.4em;\n",
       "  background-color: var(--sklearn-color-background);\n",
       "}\n",
       "\n",
       "#sk-container-id-9 div.sk-container {\n",
       "  /* jupyter's `normalize.less` sets `[hidden] { display: none; }`\n",
       "     but bootstrap.min.css set `[hidden] { display: none !important; }`\n",
       "     so we also need the `!important` here to be able to override the\n",
       "     default hidden behavior on the sphinx rendered scikit-learn.org.\n",
       "     See: https://github.com/scikit-learn/scikit-learn/issues/21755 */\n",
       "  display: inline-block !important;\n",
       "  position: relative;\n",
       "}\n",
       "\n",
       "#sk-container-id-9 div.sk-text-repr-fallback {\n",
       "  display: none;\n",
       "}\n",
       "\n",
       "div.sk-parallel-item,\n",
       "div.sk-serial,\n",
       "div.sk-item {\n",
       "  /* draw centered vertical line to link estimators */\n",
       "  background-image: linear-gradient(var(--sklearn-color-text-on-default-background), var(--sklearn-color-text-on-default-background));\n",
       "  background-size: 2px 100%;\n",
       "  background-repeat: no-repeat;\n",
       "  background-position: center center;\n",
       "}\n",
       "\n",
       "/* Parallel-specific style estimator block */\n",
       "\n",
       "#sk-container-id-9 div.sk-parallel-item::after {\n",
       "  content: \"\";\n",
       "  width: 100%;\n",
       "  border-bottom: 2px solid var(--sklearn-color-text-on-default-background);\n",
       "  flex-grow: 1;\n",
       "}\n",
       "\n",
       "#sk-container-id-9 div.sk-parallel {\n",
       "  display: flex;\n",
       "  align-items: stretch;\n",
       "  justify-content: center;\n",
       "  background-color: var(--sklearn-color-background);\n",
       "  position: relative;\n",
       "}\n",
       "\n",
       "#sk-container-id-9 div.sk-parallel-item {\n",
       "  display: flex;\n",
       "  flex-direction: column;\n",
       "}\n",
       "\n",
       "#sk-container-id-9 div.sk-parallel-item:first-child::after {\n",
       "  align-self: flex-end;\n",
       "  width: 50%;\n",
       "}\n",
       "\n",
       "#sk-container-id-9 div.sk-parallel-item:last-child::after {\n",
       "  align-self: flex-start;\n",
       "  width: 50%;\n",
       "}\n",
       "\n",
       "#sk-container-id-9 div.sk-parallel-item:only-child::after {\n",
       "  width: 0;\n",
       "}\n",
       "\n",
       "/* Serial-specific style estimator block */\n",
       "\n",
       "#sk-container-id-9 div.sk-serial {\n",
       "  display: flex;\n",
       "  flex-direction: column;\n",
       "  align-items: center;\n",
       "  background-color: var(--sklearn-color-background);\n",
       "  padding-right: 1em;\n",
       "  padding-left: 1em;\n",
       "}\n",
       "\n",
       "\n",
       "/* Toggleable style: style used for estimator/Pipeline/ColumnTransformer box that is\n",
       "clickable and can be expanded/collapsed.\n",
       "- Pipeline and ColumnTransformer use this feature and define the default style\n",
       "- Estimators will overwrite some part of the style using the `sk-estimator` class\n",
       "*/\n",
       "\n",
       "/* Pipeline and ColumnTransformer style (default) */\n",
       "\n",
       "#sk-container-id-9 div.sk-toggleable {\n",
       "  /* Default theme specific background. It is overwritten whether we have a\n",
       "  specific estimator or a Pipeline/ColumnTransformer */\n",
       "  background-color: var(--sklearn-color-background);\n",
       "}\n",
       "\n",
       "/* Toggleable label */\n",
       "#sk-container-id-9 label.sk-toggleable__label {\n",
       "  cursor: pointer;\n",
       "  display: block;\n",
       "  width: 100%;\n",
       "  margin-bottom: 0;\n",
       "  padding: 0.5em;\n",
       "  box-sizing: border-box;\n",
       "  text-align: center;\n",
       "}\n",
       "\n",
       "#sk-container-id-9 label.sk-toggleable__label-arrow:before {\n",
       "  /* Arrow on the left of the label */\n",
       "  content: \"▸\";\n",
       "  float: left;\n",
       "  margin-right: 0.25em;\n",
       "  color: var(--sklearn-color-icon);\n",
       "}\n",
       "\n",
       "#sk-container-id-9 label.sk-toggleable__label-arrow:hover:before {\n",
       "  color: var(--sklearn-color-text);\n",
       "}\n",
       "\n",
       "/* Toggleable content - dropdown */\n",
       "\n",
       "#sk-container-id-9 div.sk-toggleable__content {\n",
       "  max-height: 0;\n",
       "  max-width: 0;\n",
       "  overflow: hidden;\n",
       "  text-align: left;\n",
       "  /* unfitted */\n",
       "  background-color: var(--sklearn-color-unfitted-level-0);\n",
       "}\n",
       "\n",
       "#sk-container-id-9 div.sk-toggleable__content.fitted {\n",
       "  /* fitted */\n",
       "  background-color: var(--sklearn-color-fitted-level-0);\n",
       "}\n",
       "\n",
       "#sk-container-id-9 div.sk-toggleable__content pre {\n",
       "  margin: 0.2em;\n",
       "  border-radius: 0.25em;\n",
       "  color: var(--sklearn-color-text);\n",
       "  /* unfitted */\n",
       "  background-color: var(--sklearn-color-unfitted-level-0);\n",
       "}\n",
       "\n",
       "#sk-container-id-9 div.sk-toggleable__content.fitted pre {\n",
       "  /* unfitted */\n",
       "  background-color: var(--sklearn-color-fitted-level-0);\n",
       "}\n",
       "\n",
       "#sk-container-id-9 input.sk-toggleable__control:checked~div.sk-toggleable__content {\n",
       "  /* Expand drop-down */\n",
       "  max-height: 200px;\n",
       "  max-width: 100%;\n",
       "  overflow: auto;\n",
       "}\n",
       "\n",
       "#sk-container-id-9 input.sk-toggleable__control:checked~label.sk-toggleable__label-arrow:before {\n",
       "  content: \"▾\";\n",
       "}\n",
       "\n",
       "/* Pipeline/ColumnTransformer-specific style */\n",
       "\n",
       "#sk-container-id-9 div.sk-label input.sk-toggleable__control:checked~label.sk-toggleable__label {\n",
       "  color: var(--sklearn-color-text);\n",
       "  background-color: var(--sklearn-color-unfitted-level-2);\n",
       "}\n",
       "\n",
       "#sk-container-id-9 div.sk-label.fitted input.sk-toggleable__control:checked~label.sk-toggleable__label {\n",
       "  background-color: var(--sklearn-color-fitted-level-2);\n",
       "}\n",
       "\n",
       "/* Estimator-specific style */\n",
       "\n",
       "/* Colorize estimator box */\n",
       "#sk-container-id-9 div.sk-estimator input.sk-toggleable__control:checked~label.sk-toggleable__label {\n",
       "  /* unfitted */\n",
       "  background-color: var(--sklearn-color-unfitted-level-2);\n",
       "}\n",
       "\n",
       "#sk-container-id-9 div.sk-estimator.fitted input.sk-toggleable__control:checked~label.sk-toggleable__label {\n",
       "  /* fitted */\n",
       "  background-color: var(--sklearn-color-fitted-level-2);\n",
       "}\n",
       "\n",
       "#sk-container-id-9 div.sk-label label.sk-toggleable__label,\n",
       "#sk-container-id-9 div.sk-label label {\n",
       "  /* The background is the default theme color */\n",
       "  color: var(--sklearn-color-text-on-default-background);\n",
       "}\n",
       "\n",
       "/* On hover, darken the color of the background */\n",
       "#sk-container-id-9 div.sk-label:hover label.sk-toggleable__label {\n",
       "  color: var(--sklearn-color-text);\n",
       "  background-color: var(--sklearn-color-unfitted-level-2);\n",
       "}\n",
       "\n",
       "/* Label box, darken color on hover, fitted */\n",
       "#sk-container-id-9 div.sk-label.fitted:hover label.sk-toggleable__label.fitted {\n",
       "  color: var(--sklearn-color-text);\n",
       "  background-color: var(--sklearn-color-fitted-level-2);\n",
       "}\n",
       "\n",
       "/* Estimator label */\n",
       "\n",
       "#sk-container-id-9 div.sk-label label {\n",
       "  font-family: monospace;\n",
       "  font-weight: bold;\n",
       "  display: inline-block;\n",
       "  line-height: 1.2em;\n",
       "}\n",
       "\n",
       "#sk-container-id-9 div.sk-label-container {\n",
       "  text-align: center;\n",
       "}\n",
       "\n",
       "/* Estimator-specific */\n",
       "#sk-container-id-9 div.sk-estimator {\n",
       "  font-family: monospace;\n",
       "  border: 1px dotted var(--sklearn-color-border-box);\n",
       "  border-radius: 0.25em;\n",
       "  box-sizing: border-box;\n",
       "  margin-bottom: 0.5em;\n",
       "  /* unfitted */\n",
       "  background-color: var(--sklearn-color-unfitted-level-0);\n",
       "}\n",
       "\n",
       "#sk-container-id-9 div.sk-estimator.fitted {\n",
       "  /* fitted */\n",
       "  background-color: var(--sklearn-color-fitted-level-0);\n",
       "}\n",
       "\n",
       "/* on hover */\n",
       "#sk-container-id-9 div.sk-estimator:hover {\n",
       "  /* unfitted */\n",
       "  background-color: var(--sklearn-color-unfitted-level-2);\n",
       "}\n",
       "\n",
       "#sk-container-id-9 div.sk-estimator.fitted:hover {\n",
       "  /* fitted */\n",
       "  background-color: var(--sklearn-color-fitted-level-2);\n",
       "}\n",
       "\n",
       "/* Specification for estimator info (e.g. \"i\" and \"?\") */\n",
       "\n",
       "/* Common style for \"i\" and \"?\" */\n",
       "\n",
       ".sk-estimator-doc-link,\n",
       "a:link.sk-estimator-doc-link,\n",
       "a:visited.sk-estimator-doc-link {\n",
       "  float: right;\n",
       "  font-size: smaller;\n",
       "  line-height: 1em;\n",
       "  font-family: monospace;\n",
       "  background-color: var(--sklearn-color-background);\n",
       "  border-radius: 1em;\n",
       "  height: 1em;\n",
       "  width: 1em;\n",
       "  text-decoration: none !important;\n",
       "  margin-left: 1ex;\n",
       "  /* unfitted */\n",
       "  border: var(--sklearn-color-unfitted-level-1) 1pt solid;\n",
       "  color: var(--sklearn-color-unfitted-level-1);\n",
       "}\n",
       "\n",
       ".sk-estimator-doc-link.fitted,\n",
       "a:link.sk-estimator-doc-link.fitted,\n",
       "a:visited.sk-estimator-doc-link.fitted {\n",
       "  /* fitted */\n",
       "  border: var(--sklearn-color-fitted-level-1) 1pt solid;\n",
       "  color: var(--sklearn-color-fitted-level-1);\n",
       "}\n",
       "\n",
       "/* On hover */\n",
       "div.sk-estimator:hover .sk-estimator-doc-link:hover,\n",
       ".sk-estimator-doc-link:hover,\n",
       "div.sk-label-container:hover .sk-estimator-doc-link:hover,\n",
       ".sk-estimator-doc-link:hover {\n",
       "  /* unfitted */\n",
       "  background-color: var(--sklearn-color-unfitted-level-3);\n",
       "  color: var(--sklearn-color-background);\n",
       "  text-decoration: none;\n",
       "}\n",
       "\n",
       "div.sk-estimator.fitted:hover .sk-estimator-doc-link.fitted:hover,\n",
       ".sk-estimator-doc-link.fitted:hover,\n",
       "div.sk-label-container:hover .sk-estimator-doc-link.fitted:hover,\n",
       ".sk-estimator-doc-link.fitted:hover {\n",
       "  /* fitted */\n",
       "  background-color: var(--sklearn-color-fitted-level-3);\n",
       "  color: var(--sklearn-color-background);\n",
       "  text-decoration: none;\n",
       "}\n",
       "\n",
       "/* Span, style for the box shown on hovering the info icon */\n",
       ".sk-estimator-doc-link span {\n",
       "  display: none;\n",
       "  z-index: 9999;\n",
       "  position: relative;\n",
       "  font-weight: normal;\n",
       "  right: .2ex;\n",
       "  padding: .5ex;\n",
       "  margin: .5ex;\n",
       "  width: min-content;\n",
       "  min-width: 20ex;\n",
       "  max-width: 50ex;\n",
       "  color: var(--sklearn-color-text);\n",
       "  box-shadow: 2pt 2pt 4pt #999;\n",
       "  /* unfitted */\n",
       "  background: var(--sklearn-color-unfitted-level-0);\n",
       "  border: .5pt solid var(--sklearn-color-unfitted-level-3);\n",
       "}\n",
       "\n",
       ".sk-estimator-doc-link.fitted span {\n",
       "  /* fitted */\n",
       "  background: var(--sklearn-color-fitted-level-0);\n",
       "  border: var(--sklearn-color-fitted-level-3);\n",
       "}\n",
       "\n",
       ".sk-estimator-doc-link:hover span {\n",
       "  display: block;\n",
       "}\n",
       "\n",
       "/* \"?\"-specific style due to the `<a>` HTML tag */\n",
       "\n",
       "#sk-container-id-9 a.estimator_doc_link {\n",
       "  float: right;\n",
       "  font-size: 1rem;\n",
       "  line-height: 1em;\n",
       "  font-family: monospace;\n",
       "  background-color: var(--sklearn-color-background);\n",
       "  border-radius: 1rem;\n",
       "  height: 1rem;\n",
       "  width: 1rem;\n",
       "  text-decoration: none;\n",
       "  /* unfitted */\n",
       "  color: var(--sklearn-color-unfitted-level-1);\n",
       "  border: var(--sklearn-color-unfitted-level-1) 1pt solid;\n",
       "}\n",
       "\n",
       "#sk-container-id-9 a.estimator_doc_link.fitted {\n",
       "  /* fitted */\n",
       "  border: var(--sklearn-color-fitted-level-1) 1pt solid;\n",
       "  color: var(--sklearn-color-fitted-level-1);\n",
       "}\n",
       "\n",
       "/* On hover */\n",
       "#sk-container-id-9 a.estimator_doc_link:hover {\n",
       "  /* unfitted */\n",
       "  background-color: var(--sklearn-color-unfitted-level-3);\n",
       "  color: var(--sklearn-color-background);\n",
       "  text-decoration: none;\n",
       "}\n",
       "\n",
       "#sk-container-id-9 a.estimator_doc_link.fitted:hover {\n",
       "  /* fitted */\n",
       "  background-color: var(--sklearn-color-fitted-level-3);\n",
       "}\n",
       "</style><div id=\"sk-container-id-9\" class=\"sk-top-container\"><div class=\"sk-text-repr-fallback\"><pre>LinearRegression()</pre><b>In a Jupyter environment, please rerun this cell to show the HTML representation or trust the notebook. <br />On GitHub, the HTML representation is unable to render, please try loading this page with nbviewer.org.</b></div><div class=\"sk-container\" hidden><div class=\"sk-item\"><div class=\"sk-estimator fitted sk-toggleable\"><input class=\"sk-toggleable__control sk-hidden--visually\" id=\"sk-estimator-id-9\" type=\"checkbox\" checked><label for=\"sk-estimator-id-9\" class=\"sk-toggleable__label fitted sk-toggleable__label-arrow fitted\">&nbsp;&nbsp;LinearRegression<a class=\"sk-estimator-doc-link fitted\" rel=\"noreferrer\" target=\"_blank\" href=\"https://scikit-learn.org/1.5/modules/generated/sklearn.linear_model.LinearRegression.html\">?<span>Documentation for LinearRegression</span></a><span class=\"sk-estimator-doc-link fitted\">i<span>Fitted</span></span></label><div class=\"sk-toggleable__content fitted\"><pre>LinearRegression()</pre></div> </div></div></div></div>"
      ],
      "text/plain": [
       "LinearRegression()"
      ]
     },
     "execution_count": 314,
     "metadata": {},
     "output_type": "execute_result"
    }
   ],
   "source": [
    "#linear regression\n",
    "from sklearn.linear_model import LinearRegression\n",
    "from sklearn.metrics import confusion_matrix, accuracy_score\n",
    "regressor = LinearRegression()\n",
    "regressor.fit(x_train, y_train)"
   ]
  },
  {
   "cell_type": "code",
   "execution_count": 315,
   "id": "885b8952-ae8f-4f19-b0ee-980befafb616",
   "metadata": {},
   "outputs": [
    {
     "name": "stdout",
     "output_type": "stream",
     "text": [
      "[-4.30879089e-02  6.93093328e-01  6.78960103e-01 -3.29648514e-01\n",
      "  2.73049805e-10]\n",
      "-0.01371856896918544\n"
     ]
    }
   ],
   "source": [
    "#print regressor\n",
    "#coef hệ số của pt tuyến tính\n",
    "#coef cho biết giá trị các cột khi tăng 1 thì sẽ tăng giảm theo giá trị trong mảng coef\n",
    "#intercept hệ số chặn của ptt tt\n",
    "#là giá trị biến phụ thuộc khi mọi biến độc lập = 0\n",
    "print(regressor.coef_)\n",
    "print(regressor.intercept_)"
   ]
  },
  {
   "cell_type": "code",
   "execution_count": 316,
   "id": "a7ba1a26-4b80-49fe-82f0-c6cec3f96eeb",
   "metadata": {},
   "outputs": [
    {
     "name": "stdout",
     "output_type": "stream",
     "text": [
      "            Open       High        Low  Prev_close    Volume\n",
      "1533   15.000000  15.437500  14.875000   15.125000    763800\n",
      "4439   14.375000  15.437500  14.312500   15.000000   9376200\n",
      "7603    8.300000   8.670000   7.920000    8.270000  48469500\n",
      "1312   14.625000  14.687500  14.312500   14.625000    271800\n",
      "5975   17.549999  17.559999  16.850000   17.860001  12035800\n",
      "...          ...        ...        ...         ...       ...\n",
      "10211  79.349998  79.720001  76.540001   78.930000  38393500\n",
      "7029    7.100000   7.490000   6.980000    7.150000  20428500\n",
      "9567   12.140000  12.430000  12.050000   12.070000  42265200\n",
      "3852   17.562500  17.875000  17.375000   17.625000   2343600\n",
      "4782    8.562500   9.000000   8.468750    8.562500   3083800\n",
      "\n",
      "[2730 rows x 5 columns]\n",
      "[15.15339736 14.84196992  8.30217633 ... 12.29249646 17.60610992\n",
      "  8.78335116]\n"
     ]
    }
   ],
   "source": [
    "#predicted value\n",
    "predicted = regressor.predict(x_test)\n",
    "print(x_test)\n",
    "print(predicted)"
   ]
  },
  {
   "cell_type": "code",
   "execution_count": 317,
   "id": "5a878a42-7ecb-4553-8f61-a8c38642860e",
   "metadata": {},
   "outputs": [
    {
     "data": {
      "text/plain": [
       "(2730,)"
      ]
     },
     "execution_count": 317,
     "metadata": {},
     "output_type": "execute_result"
    }
   ],
   "source": [
    "predicted.shape"
   ]
  },
  {
   "cell_type": "code",
   "execution_count": 318,
   "id": "c630e59e-ac89-4489-9453-c388fa5a2956",
   "metadata": {},
   "outputs": [
    {
     "name": "stdout",
     "output_type": "stream",
     "text": [
      "          Actual  Predicted\n",
      "1533   15.250000  15.153397\n",
      "4439   15.312500  14.841970\n",
      "7603    8.380000   8.302176\n",
      "1312   14.375000  14.432510\n",
      "5975   17.360001  16.957048\n",
      "...          ...        ...\n",
      "10211  76.660004  77.779590\n",
      "7029    7.460000   7.259359\n",
      "9567   12.420000  12.292496\n",
      "3852   17.875000  17.606110\n",
      "4782    8.812500   8.783351\n",
      "\n",
      "[2730 rows x 2 columns]\n"
     ]
    }
   ],
   "source": [
    "#Comparison predicted to actual test\n",
    "_datafile = pd.DataFrame({\"Actual\": y_test, \"Predicted\": predicted})\n",
    "print(_datafile)"
   ]
  },
  {
   "cell_type": "code",
   "execution_count": 319,
   "id": "2490b41e-770b-46f5-9ce7-0d4f0845b9c6",
   "metadata": {},
   "outputs": [
    {
     "data": {
      "text/plain": [
       "0.9997230866660051"
      ]
     },
     "execution_count": 319,
     "metadata": {},
     "output_type": "execute_result"
    }
   ],
   "source": [
    "#Score\n",
    "regressor.score(x_test, y_test)"
   ]
  },
  {
   "cell_type": "code",
   "execution_count": 320,
   "id": "0035eaba-f2c4-4036-9a65-d8735faf5b6d",
   "metadata": {},
   "outputs": [
    {
     "name": "stdout",
     "output_type": "stream",
     "text": [
      "Mean Absolute Error  0.1899980268856145\n",
      "Mean Square Error  0.14996326712845848\n",
      "Root Mean Error  0.3872509097839003\n"
     ]
    }
   ],
   "source": [
    "import math\n",
    "print(\"Mean Absolute Error \", metrics.mean_absolute_error(y_test, predicted))\n",
    "print(\"Mean Square Error \", metrics.mean_squared_error(y_test, predicted))\n",
    "print(\"Root Mean Error \", math.sqrt(metrics.mean_squared_error(y_test, predicted)))"
   ]
  },
  {
   "cell_type": "code",
   "execution_count": 321,
   "id": "4074c06e-1622-4bad-9714-ee97d0f99211",
   "metadata": {},
   "outputs": [
    {
     "name": "stdout",
     "output_type": "stream",
     "text": [
      "[  3.17517759   3.15019536   3.06088465 ... 111.36871184 114.35309656\n",
      " 111.17082262]\n"
     ]
    }
   ],
   "source": [
    "predicted = regressor.predict(x)\n",
    "print(predicted)"
   ]
  },
  {
   "cell_type": "code",
   "execution_count": 322,
   "id": "be887cf5-a719-4b80-94fd-df1c85325599",
   "metadata": {
    "scrolled": true
   },
   "outputs": [
    {
     "data": {
      "image/png": "[encoded data removed]",
      "text/plain": [
       "<Figure size 1200x600 with 1 Axes>"
      ]
     },
     "metadata": {},
     "output_type": "display_data"
    }
   ],
   "source": [
    "#plot the graph\n",
    "plt.figure(figsize=(12, 6))\n",
    "plt.plot(y, label = \"Actual\")\n",
    "plt.plot(predicted, label = \"Predicted\")\n",
    "plt.xlabel(\"Index\")\n",
    "plt.ylabel(\"Value\")\n",
    "plt.title(\"Actual vs Predicted\")\n",
    "plt.legend()\n",
    "plt.show()"
   ]
  },
  {
   "cell_type": "markdown",
   "id": "352feb57-dda9-429c-9ae9-10c10a041f07",
   "metadata": {},
   "source": [
    "# New Data"
   ]
  },
  {
   "cell_type": "code",
   "execution_count": 323,
   "id": "16e4ee65-d0ec-420b-aa5f-e5dc4f85947c",
   "metadata": {},
   "outputs": [
    {
     "data": {
      "text/html": [
       "<div>\n",
       "<style scoped>\n",
       "    .dataframe tbody tr th:only-of-type {\n",
       "        vertical-align: middle;\n",
       "    }\n",
       "\n",
       "    .dataframe tbody tr th {\n",
       "        vertical-align: top;\n",
       "    }\n",
       "\n",
       "    .dataframe thead th {\n",
       "        text-align: right;\n",
       "    }\n",
       "</style>\n",
       "<table border=\"1\" class=\"dataframe\">\n",
       "  <thead>\n",
       "    <tr style=\"text-align: right;\">\n",
       "      <th></th>\n",
       "      <th>Date</th>\n",
       "      <th>Open</th>\n",
       "      <th>High</th>\n",
       "      <th>Low</th>\n",
       "      <th>Close</th>\n",
       "      <th>Adj Close</th>\n",
       "      <th>Volume</th>\n",
       "    </tr>\n",
       "  </thead>\n",
       "  <tbody>\n",
       "    <tr>\n",
       "      <th>0</th>\n",
       "      <td>2023-01-03</td>\n",
       "      <td>66.000000</td>\n",
       "      <td>66.879997</td>\n",
       "      <td>63.590000</td>\n",
       "      <td>64.019997</td>\n",
       "      <td>64.019997</td>\n",
       "      <td>46851800</td>\n",
       "    </tr>\n",
       "    <tr>\n",
       "      <th>1</th>\n",
       "      <td>2023-01-04</td>\n",
       "      <td>65.000000</td>\n",
       "      <td>65.790001</td>\n",
       "      <td>63.310001</td>\n",
       "      <td>64.660004</td>\n",
       "      <td>64.660004</td>\n",
       "      <td>47477100</td>\n",
       "    </tr>\n",
       "    <tr>\n",
       "      <th>2</th>\n",
       "      <td>2023-01-05</td>\n",
       "      <td>64.150002</td>\n",
       "      <td>64.349998</td>\n",
       "      <td>62.299999</td>\n",
       "      <td>62.330002</td>\n",
       "      <td>62.330002</td>\n",
       "      <td>46159500</td>\n",
       "    </tr>\n",
       "    <tr>\n",
       "      <th>3</th>\n",
       "      <td>2023-01-06</td>\n",
       "      <td>63.150002</td>\n",
       "      <td>64.300003</td>\n",
       "      <td>60.049999</td>\n",
       "      <td>63.959999</td>\n",
       "      <td>63.959999</td>\n",
       "      <td>70161300</td>\n",
       "    </tr>\n",
       "    <tr>\n",
       "      <th>4</th>\n",
       "      <td>2023-01-09</td>\n",
       "      <td>66.220001</td>\n",
       "      <td>69.320000</td>\n",
       "      <td>65.669998</td>\n",
       "      <td>67.239998</td>\n",
       "      <td>67.239998</td>\n",
       "      <td>69741300</td>\n",
       "    </tr>\n",
       "  </tbody>\n",
       "</table>\n",
       "</div>"
      ],
      "text/plain": [
       "         Date       Open       High        Low      Close  Adj Close    Volume\n",
       "0  2023-01-03  66.000000  66.879997  63.590000  64.019997  64.019997  46851800\n",
       "1  2023-01-04  65.000000  65.790001  63.310001  64.660004  64.660004  47477100\n",
       "2  2023-01-05  64.150002  64.349998  62.299999  62.330002  62.330002  46159500\n",
       "3  2023-01-06  63.150002  64.300003  60.049999  63.959999  63.959999  70161300\n",
       "4  2023-01-09  66.220001  69.320000  65.669998  67.239998  67.239998  69741300"
      ]
     },
     "execution_count": 323,
     "metadata": {},
     "output_type": "execute_result"
    }
   ],
   "source": [
    "#load test data\n",
    "new_data = pd.read_csv(\"AMD (2023 - 08.04.2024).csv\")\n",
    "new_data.head()"
   ]
  },
  {
   "cell_type": "code",
   "execution_count": 324,
   "id": "d0643454-c7e2-4856-9aa7-4b2b429dbe47",
   "metadata": {},
   "outputs": [
    {
     "data": {
      "text/html": [
       "<div>\n",
       "<style scoped>\n",
       "    .dataframe tbody tr th:only-of-type {\n",
       "        vertical-align: middle;\n",
       "    }\n",
       "\n",
       "    .dataframe tbody tr th {\n",
       "        vertical-align: top;\n",
       "    }\n",
       "\n",
       "    .dataframe thead th {\n",
       "        text-align: right;\n",
       "    }\n",
       "</style>\n",
       "<table border=\"1\" class=\"dataframe\">\n",
       "  <thead>\n",
       "    <tr style=\"text-align: right;\">\n",
       "      <th></th>\n",
       "      <th>Date</th>\n",
       "      <th>Open</th>\n",
       "      <th>High</th>\n",
       "      <th>Low</th>\n",
       "      <th>Close</th>\n",
       "      <th>Adj Close</th>\n",
       "      <th>Volume</th>\n",
       "      <th>Prev_close</th>\n",
       "    </tr>\n",
       "  </thead>\n",
       "  <tbody>\n",
       "    <tr>\n",
       "      <th>0</th>\n",
       "      <td>2023-01-03</td>\n",
       "      <td>66.000000</td>\n",
       "      <td>66.879997</td>\n",
       "      <td>63.590000</td>\n",
       "      <td>64.019997</td>\n",
       "      <td>64.019997</td>\n",
       "      <td>46851800</td>\n",
       "      <td>NaN</td>\n",
       "    </tr>\n",
       "    <tr>\n",
       "      <th>1</th>\n",
       "      <td>2023-01-04</td>\n",
       "      <td>65.000000</td>\n",
       "      <td>65.790001</td>\n",
       "      <td>63.310001</td>\n",
       "      <td>64.660004</td>\n",
       "      <td>64.660004</td>\n",
       "      <td>47477100</td>\n",
       "      <td>64.019997</td>\n",
       "    </tr>\n",
       "    <tr>\n",
       "      <th>2</th>\n",
       "      <td>2023-01-05</td>\n",
       "      <td>64.150002</td>\n",
       "      <td>64.349998</td>\n",
       "      <td>62.299999</td>\n",
       "      <td>62.330002</td>\n",
       "      <td>62.330002</td>\n",
       "      <td>46159500</td>\n",
       "      <td>64.660004</td>\n",
       "    </tr>\n",
       "    <tr>\n",
       "      <th>3</th>\n",
       "      <td>2023-01-06</td>\n",
       "      <td>63.150002</td>\n",
       "      <td>64.300003</td>\n",
       "      <td>60.049999</td>\n",
       "      <td>63.959999</td>\n",
       "      <td>63.959999</td>\n",
       "      <td>70161300</td>\n",
       "      <td>62.330002</td>\n",
       "    </tr>\n",
       "    <tr>\n",
       "      <th>4</th>\n",
       "      <td>2023-01-09</td>\n",
       "      <td>66.220001</td>\n",
       "      <td>69.320000</td>\n",
       "      <td>65.669998</td>\n",
       "      <td>67.239998</td>\n",
       "      <td>67.239998</td>\n",
       "      <td>69741300</td>\n",
       "      <td>63.959999</td>\n",
       "    </tr>\n",
       "  </tbody>\n",
       "</table>\n",
       "</div>"
      ],
      "text/plain": [
       "         Date       Open       High        Low      Close  Adj Close  \\\n",
       "0  2023-01-03  66.000000  66.879997  63.590000  64.019997  64.019997   \n",
       "1  2023-01-04  65.000000  65.790001  63.310001  64.660004  64.660004   \n",
       "2  2023-01-05  64.150002  64.349998  62.299999  62.330002  62.330002   \n",
       "3  2023-01-06  63.150002  64.300003  60.049999  63.959999  63.959999   \n",
       "4  2023-01-09  66.220001  69.320000  65.669998  67.239998  67.239998   \n",
       "\n",
       "     Volume  Prev_close  \n",
       "0  46851800         NaN  \n",
       "1  47477100   64.019997  \n",
       "2  46159500   64.660004  \n",
       "3  70161300   62.330002  \n",
       "4  69741300   63.959999  "
      ]
     },
     "execution_count": 324,
     "metadata": {},
     "output_type": "execute_result"
    }
   ],
   "source": [
    "# Add Prev_close column\n",
    "series_shifted = new_data['Close'].shift()\n",
    "new_data['Prev_close'] = series_shifted\n",
    "new_data.head()"
   ]
  },
  {
   "cell_type": "code",
   "execution_count": 325,
   "id": "2f4f2955-dd12-494b-8e01-b088255f4346",
   "metadata": {},
   "outputs": [
    {
     "data": {
      "text/html": [
       "<div>\n",
       "<style scoped>\n",
       "    .dataframe tbody tr th:only-of-type {\n",
       "        vertical-align: middle;\n",
       "    }\n",
       "\n",
       "    .dataframe tbody tr th {\n",
       "        vertical-align: top;\n",
       "    }\n",
       "\n",
       "    .dataframe thead th {\n",
       "        text-align: right;\n",
       "    }\n",
       "</style>\n",
       "<table border=\"1\" class=\"dataframe\">\n",
       "  <thead>\n",
       "    <tr style=\"text-align: right;\">\n",
       "      <th></th>\n",
       "      <th>Date</th>\n",
       "      <th>Open</th>\n",
       "      <th>High</th>\n",
       "      <th>Low</th>\n",
       "      <th>Close</th>\n",
       "      <th>Volume</th>\n",
       "      <th>Prev_close</th>\n",
       "    </tr>\n",
       "  </thead>\n",
       "  <tbody>\n",
       "    <tr>\n",
       "      <th>0</th>\n",
       "      <td>2023-01-03</td>\n",
       "      <td>66.000000</td>\n",
       "      <td>66.879997</td>\n",
       "      <td>63.590000</td>\n",
       "      <td>64.019997</td>\n",
       "      <td>46851800</td>\n",
       "      <td>NaN</td>\n",
       "    </tr>\n",
       "    <tr>\n",
       "      <th>1</th>\n",
       "      <td>2023-01-04</td>\n",
       "      <td>65.000000</td>\n",
       "      <td>65.790001</td>\n",
       "      <td>63.310001</td>\n",
       "      <td>64.660004</td>\n",
       "      <td>47477100</td>\n",
       "      <td>64.019997</td>\n",
       "    </tr>\n",
       "    <tr>\n",
       "      <th>2</th>\n",
       "      <td>2023-01-05</td>\n",
       "      <td>64.150002</td>\n",
       "      <td>64.349998</td>\n",
       "      <td>62.299999</td>\n",
       "      <td>62.330002</td>\n",
       "      <td>46159500</td>\n",
       "      <td>64.660004</td>\n",
       "    </tr>\n",
       "    <tr>\n",
       "      <th>3</th>\n",
       "      <td>2023-01-06</td>\n",
       "      <td>63.150002</td>\n",
       "      <td>64.300003</td>\n",
       "      <td>60.049999</td>\n",
       "      <td>63.959999</td>\n",
       "      <td>70161300</td>\n",
       "      <td>62.330002</td>\n",
       "    </tr>\n",
       "    <tr>\n",
       "      <th>4</th>\n",
       "      <td>2023-01-09</td>\n",
       "      <td>66.220001</td>\n",
       "      <td>69.320000</td>\n",
       "      <td>65.669998</td>\n",
       "      <td>67.239998</td>\n",
       "      <td>69741300</td>\n",
       "      <td>63.959999</td>\n",
       "    </tr>\n",
       "  </tbody>\n",
       "</table>\n",
       "</div>"
      ],
      "text/plain": [
       "         Date       Open       High        Low      Close    Volume  \\\n",
       "0  2023-01-03  66.000000  66.879997  63.590000  64.019997  46851800   \n",
       "1  2023-01-04  65.000000  65.790001  63.310001  64.660004  47477100   \n",
       "2  2023-01-05  64.150002  64.349998  62.299999  62.330002  46159500   \n",
       "3  2023-01-06  63.150002  64.300003  60.049999  63.959999  70161300   \n",
       "4  2023-01-09  66.220001  69.320000  65.669998  67.239998  69741300   \n",
       "\n",
       "   Prev_close  \n",
       "0         NaN  \n",
       "1   64.019997  \n",
       "2   64.660004  \n",
       "3   62.330002  \n",
       "4   63.959999  "
      ]
     },
     "execution_count": 325,
     "metadata": {},
     "output_type": "execute_result"
    }
   ],
   "source": [
    "#Drop unused column for test data\n",
    "new_data = new_data.drop(columns = ['Adj Close'])\n",
    "new_data.head()"
   ]
  },
  {
   "cell_type": "code",
   "execution_count": 326,
   "id": "c5059627-6cd3-49d2-a053-66db8af22bc2",
   "metadata": {},
   "outputs": [
    {
     "data": {
      "text/plain": [
       "(316, 7)"
      ]
     },
     "execution_count": 326,
     "metadata": {},
     "output_type": "execute_result"
    }
   ],
   "source": [
    "new_data.shape"
   ]
  },
  {
   "cell_type": "code",
   "execution_count": 327,
   "id": "8c7cc01b-d1ad-47e3-8436-2c4355763f69",
   "metadata": {},
   "outputs": [
    {
     "data": {
      "text/plain": [
       "Date          0\n",
       "Open          0\n",
       "High          0\n",
       "Low           0\n",
       "Close         0\n",
       "Volume        0\n",
       "Prev_close    1\n",
       "dtype: int64"
      ]
     },
     "execution_count": 327,
     "metadata": {},
     "output_type": "execute_result"
    }
   ],
   "source": [
    "#null entries check (need to remove those data)\n",
    "new_data.isnull().sum()"
   ]
  },
  {
   "cell_type": "code",
   "execution_count": 328,
   "id": "e4b83939-f329-4c0b-9af1-d87a09a547a9",
   "metadata": {},
   "outputs": [
    {
     "data": {
      "text/html": [
       "<div>\n",
       "<style scoped>\n",
       "    .dataframe tbody tr th:only-of-type {\n",
       "        vertical-align: middle;\n",
       "    }\n",
       "\n",
       "    .dataframe tbody tr th {\n",
       "        vertical-align: top;\n",
       "    }\n",
       "\n",
       "    .dataframe thead th {\n",
       "        text-align: right;\n",
       "    }\n",
       "</style>\n",
       "<table border=\"1\" class=\"dataframe\">\n",
       "  <thead>\n",
       "    <tr style=\"text-align: right;\">\n",
       "      <th></th>\n",
       "      <th>Date</th>\n",
       "      <th>Open</th>\n",
       "      <th>High</th>\n",
       "      <th>Low</th>\n",
       "      <th>Close</th>\n",
       "      <th>Volume</th>\n",
       "      <th>Prev_close</th>\n",
       "    </tr>\n",
       "  </thead>\n",
       "  <tbody>\n",
       "    <tr>\n",
       "      <th>1</th>\n",
       "      <td>2023-01-04</td>\n",
       "      <td>65.000000</td>\n",
       "      <td>65.790001</td>\n",
       "      <td>63.310001</td>\n",
       "      <td>64.660004</td>\n",
       "      <td>47477100</td>\n",
       "      <td>64.019997</td>\n",
       "    </tr>\n",
       "    <tr>\n",
       "      <th>2</th>\n",
       "      <td>2023-01-05</td>\n",
       "      <td>64.150002</td>\n",
       "      <td>64.349998</td>\n",
       "      <td>62.299999</td>\n",
       "      <td>62.330002</td>\n",
       "      <td>46159500</td>\n",
       "      <td>64.660004</td>\n",
       "    </tr>\n",
       "    <tr>\n",
       "      <th>3</th>\n",
       "      <td>2023-01-06</td>\n",
       "      <td>63.150002</td>\n",
       "      <td>64.300003</td>\n",
       "      <td>60.049999</td>\n",
       "      <td>63.959999</td>\n",
       "      <td>70161300</td>\n",
       "      <td>62.330002</td>\n",
       "    </tr>\n",
       "    <tr>\n",
       "      <th>4</th>\n",
       "      <td>2023-01-09</td>\n",
       "      <td>66.220001</td>\n",
       "      <td>69.320000</td>\n",
       "      <td>65.669998</td>\n",
       "      <td>67.239998</td>\n",
       "      <td>69741300</td>\n",
       "      <td>63.959999</td>\n",
       "    </tr>\n",
       "    <tr>\n",
       "      <th>5</th>\n",
       "      <td>2023-01-10</td>\n",
       "      <td>66.669998</td>\n",
       "      <td>68.150002</td>\n",
       "      <td>66.559998</td>\n",
       "      <td>68.050003</td>\n",
       "      <td>41149600</td>\n",
       "      <td>67.239998</td>\n",
       "    </tr>\n",
       "    <tr>\n",
       "      <th>...</th>\n",
       "      <td>...</td>\n",
       "      <td>...</td>\n",
       "      <td>...</td>\n",
       "      <td>...</td>\n",
       "      <td>...</td>\n",
       "      <td>...</td>\n",
       "      <td>...</td>\n",
       "    </tr>\n",
       "    <tr>\n",
       "      <th>311</th>\n",
       "      <td>2024-04-01</td>\n",
       "      <td>180.100006</td>\n",
       "      <td>187.240005</td>\n",
       "      <td>179.899994</td>\n",
       "      <td>183.339996</td>\n",
       "      <td>74299900</td>\n",
       "      <td>180.490005</td>\n",
       "    </tr>\n",
       "    <tr>\n",
       "      <th>312</th>\n",
       "      <td>2024-04-02</td>\n",
       "      <td>179.470001</td>\n",
       "      <td>180.100006</td>\n",
       "      <td>174.830002</td>\n",
       "      <td>178.699997</td>\n",
       "      <td>61598800</td>\n",
       "      <td>183.339996</td>\n",
       "    </tr>\n",
       "    <tr>\n",
       "      <th>313</th>\n",
       "      <td>2024-04-03</td>\n",
       "      <td>177.539993</td>\n",
       "      <td>182.050003</td>\n",
       "      <td>176.699997</td>\n",
       "      <td>180.770004</td>\n",
       "      <td>49835100</td>\n",
       "      <td>178.699997</td>\n",
       "    </tr>\n",
       "    <tr>\n",
       "      <th>314</th>\n",
       "      <td>2024-04-04</td>\n",
       "      <td>182.919998</td>\n",
       "      <td>183.020004</td>\n",
       "      <td>165.649994</td>\n",
       "      <td>165.830002</td>\n",
       "      <td>88280000</td>\n",
       "      <td>180.770004</td>\n",
       "    </tr>\n",
       "    <tr>\n",
       "      <th>315</th>\n",
       "      <td>2024-04-05</td>\n",
       "      <td>168.100006</td>\n",
       "      <td>172.690002</td>\n",
       "      <td>165.580002</td>\n",
       "      <td>170.419998</td>\n",
       "      <td>66025200</td>\n",
       "      <td>165.830002</td>\n",
       "    </tr>\n",
       "  </tbody>\n",
       "</table>\n",
       "<p>315 rows × 7 columns</p>\n",
       "</div>"
      ],
      "text/plain": [
       "           Date        Open        High         Low       Close    Volume  \\\n",
       "1    2023-01-04   65.000000   65.790001   63.310001   64.660004  47477100   \n",
       "2    2023-01-05   64.150002   64.349998   62.299999   62.330002  46159500   \n",
       "3    2023-01-06   63.150002   64.300003   60.049999   63.959999  70161300   \n",
       "4    2023-01-09   66.220001   69.320000   65.669998   67.239998  69741300   \n",
       "5    2023-01-10   66.669998   68.150002   66.559998   68.050003  41149600   \n",
       "..          ...         ...         ...         ...         ...       ...   \n",
       "311  2024-04-01  180.100006  187.240005  179.899994  183.339996  74299900   \n",
       "312  2024-04-02  179.470001  180.100006  174.830002  178.699997  61598800   \n",
       "313  2024-04-03  177.539993  182.050003  176.699997  180.770004  49835100   \n",
       "314  2024-04-04  182.919998  183.020004  165.649994  165.830002  88280000   \n",
       "315  2024-04-05  168.100006  172.690002  165.580002  170.419998  66025200   \n",
       "\n",
       "     Prev_close  \n",
       "1     64.019997  \n",
       "2     64.660004  \n",
       "3     62.330002  \n",
       "4     63.959999  \n",
       "5     67.239998  \n",
       "..          ...  \n",
       "311  180.490005  \n",
       "312  183.339996  \n",
       "313  178.699997  \n",
       "314  180.770004  \n",
       "315  165.830002  \n",
       "\n",
       "[315 rows x 7 columns]"
      ]
     },
     "execution_count": 328,
     "metadata": {},
     "output_type": "execute_result"
    }
   ],
   "source": [
    "# remove null row/column\n",
    "new_data.dropna(inplace = True)\n",
    "new_data"
   ]
  },
  {
   "cell_type": "code",
   "execution_count": 329,
   "id": "ec4578f8-df5b-4619-bdd2-c5c960433f54",
   "metadata": {},
   "outputs": [],
   "source": [
    "#define target x and y (calculate close)\n",
    "x_new = new_data[['Open', 'High', 'Low', 'Prev_close', 'Volume']]\n",
    "y_new = new_data['Close']"
   ]
  },
  {
   "cell_type": "code",
   "execution_count": 330,
   "id": "9c74b208-6cae-4e5b-a72a-cd7423ea6cc2",
   "metadata": {},
   "outputs": [
    {
     "name": "stdout",
     "output_type": "stream",
     "text": [
      "           Open        High         Low  Prev_close    Volume\n",
      "1     65.000000   65.790001   63.310001   64.019997  47477100\n",
      "2     64.150002   64.349998   62.299999   64.660004  46159500\n",
      "3     63.150002   64.300003   60.049999   62.330002  70161300\n",
      "4     66.220001   69.320000   65.669998   63.959999  69741300\n",
      "5     66.669998   68.150002   66.559998   67.239998  41149600\n",
      "..          ...         ...         ...         ...       ...\n",
      "311  180.100006  187.240005  179.899994  180.490005  74299900\n",
      "312  179.470001  180.100006  174.830002  183.339996  61598800\n",
      "313  177.539993  182.050003  176.699997  178.699997  49835100\n",
      "314  182.919998  183.020004  165.649994  180.770004  88280000\n",
      "315  168.100006  172.690002  165.580002  165.830002  66025200\n",
      "\n",
      "[315 rows x 5 columns]\n",
      "[ 64.67800962  62.81948959  62.07490145  68.70026237  67.38517587\n",
      "  68.17229804  69.49339554  69.9337445   71.86793105  71.61083249\n",
      "  67.44764118  69.15090222  75.45583912  73.87198333  73.24546784\n",
      "  75.86641464  75.13494552  72.83470043  74.03539614  83.99677047\n",
      "  86.61284607  86.98103364  84.27793873  84.59303443  86.37207045\n",
      "  84.6417992   80.98566372  82.87591386  84.29079766  84.09963045\n",
      "  80.46724201  77.9073195   77.08326711  77.07617325  80.90521299\n",
      "  77.22135441  79.67434078  78.78627608  79.23590676  78.97958644\n",
      "  80.46587557  82.35133064  83.33892291  84.68202794  85.80572159\n",
      "  83.31380357  80.6590966   87.31924567  88.65275094  94.04540692\n",
      "  97.58544669  93.87309291  96.42965448  99.69533221 101.51773539\n",
      "  97.33258459  96.85030915  94.22896766  96.27099413  99.11648541\n",
      "  96.44163715  94.98137057  96.04694213  91.85911444  91.46848088\n",
      "  93.78052962  93.90488625  93.04361412  92.48026948  91.56597253\n",
      "  88.67492436  90.95310388  89.23745574  90.24067063  88.45259473\n",
      "  87.10722981  84.59943426  87.11782479  85.73549161  88.32057438\n",
      "  89.88138098  89.11792709  81.03287761  88.18475608  87.99272138\n",
      "  93.36343808  94.66972594  99.05086285  97.81300697  94.9668217\n",
      "  95.47302716 101.35921314 102.27687427 106.81297623 105.23780026\n",
      " 106.27750097 109.48718525 107.00636495 121.5432423  125.46227964\n",
      " 127.02654646 119.3783841  119.20788507 119.63635908 117.86908103\n",
      " 122.22631734 120.07034968 120.23952926 126.86009647 129.54762152\n",
      " 126.93601623 126.1002833  122.76420495 122.26488992 119.58453253\n",
      " 114.12758414 111.8089243  108.76805362 109.75194099 109.49954536\n",
      " 109.50272523 111.58615507 114.2733004  116.13522247 115.67316253\n",
      " 111.36871184 114.35309656 111.1709634  110.60277246 114.67842909\n",
      " 114.86674708 119.68369409 115.69590129 116.22557532 118.68598707\n",
      " 110.58275345 111.08970487 109.50717992 113.15920075 110.01446219\n",
      " 113.69084297 114.44316223 113.61017464 116.12511198 111.84976838\n",
      " 112.92023878 117.52496658 117.75731885 112.20980097 110.09213695\n",
      " 112.05213209 106.86555569 109.13752861 111.50685565 107.73158876\n",
      " 105.46012255 103.71501196 107.63644064 106.8459925  108.20483008\n",
      " 105.02095885 101.86500809 102.46704499 104.74953083 106.12010983\n",
      " 106.38105103 109.20618704 108.9028602  109.35619935 105.39347922\n",
      " 108.1104947  104.85085259 104.82595093 107.29701993 107.5906379\n",
      " 103.04464183 101.10378826 101.53021535 102.22152458  96.27483766\n",
      "  97.27154728  95.82812623  96.22868023  98.38889352 102.05289309\n",
      " 103.98338646 102.63107449 100.49235204 103.15799008 101.21900885\n",
      " 105.71626425 105.60191055 108.67264862 108.27340866 109.77118604\n",
      " 106.10420857 106.61763996 103.13611089 102.58610218 104.18348494\n",
      " 103.03104494 100.51588523 100.70676413  96.83920836  95.01308782\n",
      "  96.69007532  95.62303746  96.51688695 105.14176763 107.47878551\n",
      " 111.58193972 111.35496868 113.31914393 114.27499876 114.67223867\n",
      " 118.05297491 116.82269346 121.92492048 118.22065453 118.76632201\n",
      " 120.21792326 121.06675425 118.4397613  123.46192761 122.29277631\n",
      " 122.96047317 121.25102633 125.41479036 121.06117338 119.59094437\n",
      " 116.9338344  117.04027422 119.92878766 126.66824459 129.06054487\n",
      " 132.56133107 136.52199944 137.56306222 138.9182089  139.33951593\n",
      " 138.47871768 141.75962806 136.46454676 139.68425914 139.24702476\n",
      " 142.64647513 145.06749505 148.8690315  149.15773891 138.58594527\n",
      " 134.52899402 136.02714241 139.64663195 145.42029736 147.89861713\n",
      " 148.4757134  146.42517159 146.37299565 157.75637422 157.02896334\n",
      " 164.34188236 170.15540126 167.6196635  166.49504187 178.02856111\n",
      " 182.11572404 176.8674043  176.2757657  172.60981029 165.26056923\n",
      " 168.66735074 177.87972164 174.66574919 167.99271994 171.4428735\n",
      " 170.11140083 172.6817241  174.54378197 167.67355932 177.24172267\n",
      " 177.47117499 176.70173776 164.38630268 162.52162838 182.58548117\n",
      " 178.122376   177.4407897  175.20001775 174.15171129 189.928507\n",
      " 201.20607053 208.78810228 201.19615075 212.96755127 210.99003112\n",
      " 218.27703061 197.52375901 198.46172028 193.24650534 188.92449178\n",
      " 189.96034023 190.48337747 178.33503271 177.11382699 183.45679082\n",
      " 177.6003842  176.81327072 179.66288127 178.31170547 181.23935511\n",
      " 184.66789103 175.36106534 179.59176396 171.85786348 170.20812149]\n"
     ]
    }
   ],
   "source": [
    "#predicted value with new data\n",
    "new_predicted = regressor.predict(x_new)\n",
    "print(x_new)\n",
    "print(new_predicted)"
   ]
  },
  {
   "cell_type": "code",
   "execution_count": 331,
   "id": "9372826a-90c3-474a-ac43-2403e768addc",
   "metadata": {},
   "outputs": [
    {
     "name": "stdout",
     "output_type": "stream",
     "text": [
      "         Actual   Predicted\n",
      "1     64.660004   64.678010\n",
      "2     62.330002   62.819490\n",
      "3     63.959999   62.074901\n",
      "4     67.239998   68.700262\n",
      "5     68.050003   67.385176\n",
      "..          ...         ...\n",
      "311  183.339996  184.667891\n",
      "312  178.699997  175.361065\n",
      "313  180.770004  179.591764\n",
      "314  165.830002  171.857863\n",
      "315  170.419998  170.208121\n",
      "\n",
      "[315 rows x 2 columns]\n"
     ]
    }
   ],
   "source": [
    "#Comparison predicted to actual test\n",
    "_new_data = pd.DataFrame({\"Actual\": y_new, \"Predicted\": new_predicted})\n",
    "print(_new_data)"
   ]
  },
  {
   "cell_type": "code",
   "execution_count": 332,
   "id": "6b66f84a-3a43-440d-95dc-840309113bd4",
   "metadata": {},
   "outputs": [
    {
     "data": {
      "text/plain": [
       "0.9978410578879148"
      ]
     },
     "execution_count": 332,
     "metadata": {},
     "output_type": "execute_result"
    }
   ],
   "source": [
    "#Score\n",
    "regressor.score(x_new, y_new)"
   ]
  },
  {
   "cell_type": "code",
   "execution_count": 333,
   "id": "6cd6520e-d987-4367-b9a6-bb566a3f987a",
   "metadata": {},
   "outputs": [
    {
     "name": "stdout",
     "output_type": "stream",
     "text": [
      "Mean Absolute Error  1.1785508914163099\n",
      "Mean Square Error  2.5039485102379184\n",
      "Root Mean Error  1.5823869660225083\n"
     ]
    }
   ],
   "source": [
    "import math\n",
    "print(\"Mean Absolute Error \", metrics.mean_absolute_error(y_new, new_predicted))\n",
    "print(\"Mean Square Error \", metrics.mean_squared_error(y_new, new_predicted))\n",
    "print(\"Root Mean Error \", math.sqrt(metrics.mean_squared_error(y_new, new_predicted)))"
   ]
  },
  {
   "cell_type": "code",
   "execution_count": 334,
   "id": "97e63dae-2a4d-40d2-b532-0f86e1ba2d70",
   "metadata": {},
   "outputs": [],
   "source": [
    "new_predicted = regressor.predict(x_new)"
   ]
  },
  {
   "cell_type": "code",
   "execution_count": 335,
   "id": "4447c46e-e3bd-4cab-8b5f-bafc8ce7c1dd",
   "metadata": {
    "scrolled": true
   },
   "outputs": [
    {
     "data": {
      "image/png": "[encoded data removed]",
      "text/plain": [
       "<Figure size 1200x600 with 1 Axes>"
      ]
     },
     "metadata": {},
     "output_type": "display_data"
    }
   ],
   "source": [
    "#plot the graph\n",
    "plt.figure(figsize=(12, 6))\n",
    "plt.plot(y_new.index, y_new, label = \"Actual\")\n",
    "plt.plot(y_new.index, new_predicted, label = \"Predicted\")\n",
    "plt.xlabel(\"Index\")\n",
    "plt.ylabel(\"Value\")\n",
    "plt.title(\"Actual vs Predicted\")\n",
    "plt.legend()\n",
    "plt.show()"
   ]
  },
  {
   "cell_type": "code",
   "execution_count": null,
   "id": "4935a5b9-6570-493d-9287-8562856c13f6",
   "metadata": {},
   "outputs": [],
   "source": []
  }
 ],
 "metadata": {
  "kernelspec": {
   "display_name": "Python 3 (ipykernel)",
   "language": "python",
   "name": "python3"
  },
  "language_info": {
   "codemirror_mode": {
    "name": "ipython",
    "version": 3
   },
   "file_extension": ".py",
   "mimetype": "text/x-python",
   "name": "python",
   "nbconvert_exporter": "python",
   "pygments_lexer": "ipython3",
   "version": "3.12.4"
  }
 },
 "nbformat": 4,
 "nbformat_minor": 5
}
